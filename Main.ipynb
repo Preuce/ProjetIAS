{
 "cells": [
  {
   "cell_type": "code",
   "execution_count": 1,
   "id": "4776dc2e",
   "metadata": {},
   "outputs": [],
   "source": [
    "import numpy as np # linear algebra\n",
    "import pandas as pd # data processing, CSV file I/O (e.g. pd.read_csv)\n",
    "import sklearn as skl\n",
    "import math as mt\n",
    "import seaborn as sn\n",
    "import matplotlib.pyplot as plt\n",
    "\n",
    "from collections import Counter"
   ]
  },
  {
   "cell_type": "code",
   "execution_count": 2,
   "id": "bbf629ad",
   "metadata": {},
   "outputs": [
    {
     "data": {
      "text/plain": [
       "40"
      ]
     },
     "execution_count": 2,
     "metadata": {},
     "output_type": "execute_result"
    }
   ],
   "source": [
    "currentFile = open(\"high_diamond_ranked_10min.csv\")\n",
    "dfInitial = pd.read_csv(currentFile)\n",
    "#dfInitial\n",
    "len(dfInitial.columns)"
   ]
  },
  {
   "cell_type": "code",
   "execution_count": 3,
   "id": "7ea71a98",
   "metadata": {},
   "outputs": [],
   "source": [
    "#Eliminer les outliers (peu/pas de monstres jungles tués, bcp de wards posées, peu de sbires tués)\n",
    "#on s'en branle du gameID\n",
    "#blueDeath et redDeath un peu useless, excepté pour quelques execute (on peut le vérifier)\n",
    "#totalexp et avglevel c'est un peu la même\n",
    "#se contenter de bluegoldiff et blueexpdiff\n",
    "#totalminionkilled et minionperminutes\n",
    "#same pour goldperminute et totalgold\n",
    "#elitemonsters c'est juste la somme des drake et herald (osef)\n",
    "#firstblood redondant (sauf dans les cas à 0 kills mais wsh c'est rare)\n",
    "#TargetValue = blueWin\n",
    "\n",
    "#To drop :\n",
    "#gameId\n",
    "#redAvgLevel, blueAvgLevel, redTotalExperience, blueTotalExperience,\n",
    "#redTotalGold, blueTotalGold, redGoldPerMin, blueGoldPerMin,\n",
    "#redCSPerMin, blueCSPerMin,\n",
    "#redExperienceDiff, redGoldDiff, redFirstBlood"
   ]
  },
  {
   "cell_type": "markdown",
   "id": "ac72bc09",
   "metadata": {},
   "source": [
    "# Preprocessing"
   ]
  },
  {
   "cell_type": "markdown",
   "id": "e9616b84",
   "metadata": {},
   "source": [
    "## Sélection de features"
   ]
  },
  {
   "cell_type": "markdown",
   "id": "9725976f",
   "metadata": {},
   "source": [
    "### Suppression des colonnes redondantes\n",
    "De nombreuses features sont redondantes entre elles, on va donc les supprimer afin de simplifier notre dataset sans pour autant perdre de l'information.\n",
    "\n",
    "**Les informations équivalentes sont les suivantes:**\n",
    "* Le nombre total de sbires tués et le nombre moyen de sbires tués par chaque équipe.\n",
    "* Le total d’or de chaque équipe, et le nombre d’or par minute.\n",
    "* Le nombre total de monstres élite tués est en fait la somme des dragons et hérauts tués.\n",
    "* Les différences d’or et d’expérience de l'équipe bleu, et celles de l'équipe rouges, peuvent être obtenues grâce au total d'or des 2 équipes\n",
    "* Le nombre total de sbires tués et le nombre de sbires tués par minutes par chaque équipe.\n",
    "* Les morts de chaque équipe sont intimement liés aux kills de l’équipe adverse, bien que la correspondance ne soit pas parfaite dans certaines parties.\n",
    "* Le booléen “first-blood”, indiquant si l'équipe est la première a avoir fait un kill, est présent pour les 2 équipes.\n",
    "\n",
    "**Autre:**\n",
    "* Le gameID permet d'identifier la partie, ce qui n’est pas utile à notre analyse\n",
    "\n",
    "Lorsque chaque équipe possède une feature réprésentant la même information, on privilégiera celle de l'équipe bleue (ex. pour la différence d'or on supprimera redGoldDiff)"
   ]
  },
  {
   "cell_type": "code",
   "execution_count": 4,
   "id": "80c540c4",
   "metadata": {},
   "outputs": [
    {
     "data": {
      "text/plain": [
       "24"
      ]
     },
     "execution_count": 4,
     "metadata": {},
     "output_type": "execute_result"
    }
   ],
   "source": [
    "toDrop = [\"gameId\", \"redAvgLevel\", \"blueAvgLevel\", \"redTotalExperience\", \"blueTotalExperience\",\n",
    "          \"redTotalGold\", \"blueTotalGold\", \"redGoldPerMin\", \"blueGoldPerMin\", \"redCSPerMin\",\"blueCSPerMin\",\n",
    "          \"redExperienceDiff\", \"redGoldDiff\", \"redFirstBlood\", \"redEliteMonsters\", \"blueEliteMonsters\"]\n",
    "dfSimplified = dfInitial.drop(toDrop, axis = 1)\n",
    "#dfSimplified\n",
    "len(dfSimplified.columns)"
   ]
  },
  {
   "cell_type": "markdown",
   "id": "fae1807c",
   "metadata": {},
   "source": [
    "### Colonnes redDeaths et redKills\n",
    "Les morts et les éliminiations d'une équipe sont fortement liées aux éliminations et aux morts de l'autre équipe, mais il est possible que la mort d'un joueur ne compte pas comme une élimination pour l'équipe adverse, on parle alors d'exécution. Nous allons nous intéresser au nombre de parties où ces données diffèrent afin de déterminer s'il est pertinent de supprimer ces features, ou si cela nous ferait perdre trop d'information"
   ]
  },
  {
   "cell_type": "code",
   "execution_count": 5,
   "id": "cd00bef3",
   "metadata": {},
   "outputs": [
    {
     "data": {
      "text/plain": [
       "0"
      ]
     },
     "execution_count": 5,
     "metadata": {},
     "output_type": "execute_result"
    }
   ],
   "source": [
    "dfExecute = dfSimplified[(dfSimplified[\"redDeaths\"] != dfSimplified[\"blueKills\"]) | (dfSimplified[\"redKills\"] != dfSimplified[\"blueDeaths\"])]\n",
    "len(dfExecute)"
   ]
  },
  {
   "cell_type": "markdown",
   "id": "5127a320",
   "metadata": {},
   "source": [
    "On remarque que notre dataset ne contient pas de parties dans laquelle un joueur a été exécuté, nous pouvons donc supprimer ces features sans perdre de l'information"
   ]
  },
  {
   "cell_type": "code",
   "execution_count": 6,
   "id": "6bc51ea2",
   "metadata": {},
   "outputs": [
    {
     "data": {
      "text/plain": [
       "22"
      ]
     },
     "execution_count": 6,
     "metadata": {},
     "output_type": "execute_result"
    }
   ],
   "source": [
    "dfSimplified = dfSimplified.drop([\"redDeaths\", \"redKills\"], axis = 1)\n",
    "#dfSimplified\n",
    "len(dfSimplified.columns)"
   ]
  },
  {
   "cell_type": "markdown",
   "id": "8a80d6fa",
   "metadata": {},
   "source": [
    "### Héraut de la faille\n",
    "On sait qu'il ne peut y avoir qu'un seul héraut de la faille dans les 10 premières minutes, on peut donc fusionner les 2 colonnes blueHeralds et redHeralds, on aurait alors 3 valeurs possible : 1, 0 et -1 correspondant à blue, red et none"
   ]
  },
  {
   "cell_type": "code",
   "execution_count": 7,
   "id": "084f5a91",
   "metadata": {},
   "outputs": [
    {
     "name": "stderr",
     "output_type": "stream",
     "text": [
      "<ipython-input-7-3abcf0b2b93c>:2: SettingWithCopyWarning: \n",
      "A value is trying to be set on a copy of a slice from a DataFrame.\n",
      "Try using .loc[row_indexer,col_indexer] = value instead\n",
      "\n",
      "See the caveats in the documentation: https://pandas.pydata.org/pandas-docs/stable/user_guide/indexing.html#returning-a-view-versus-a-copy\n",
      "  colHeralds.loc[:, 'heralds'] = -1\n"
     ]
    },
    {
     "data": {
      "text/plain": [
       "21"
      ]
     },
     "execution_count": 7,
     "metadata": {},
     "output_type": "execute_result"
    }
   ],
   "source": [
    "colHeralds = dfSimplified[[\"blueHeralds\", \"redHeralds\"]]\n",
    "colHeralds.loc[:, 'heralds'] = -1\n",
    "def convertHeraldStats(dataframe):\n",
    "    for index, current in colHeralds.iterrows():\n",
    "        if current['blueHeralds'] == 1:\n",
    "            current['heralds'] = 1\n",
    "        elif current['redHeralds'] == 1:\n",
    "            current['heralds'] = 0\n",
    "    return dataframe[\"heralds\"]\n",
    "\n",
    "dfSimplified = dfSimplified.drop([\"redHeralds\", \"blueHeralds\"], axis = 1);\n",
    "dfSimplified[\"heralds\"] = convertHeraldStats(colHeralds)\n",
    "len(dfSimplified.columns)"
   ]
  },
  {
   "cell_type": "code",
   "execution_count": 8,
   "id": "cb1e6724",
   "metadata": {},
   "outputs": [
    {
     "data": {
      "text/html": [
       "<div>\n",
       "<style scoped>\n",
       "    .dataframe tbody tr th:only-of-type {\n",
       "        vertical-align: middle;\n",
       "    }\n",
       "\n",
       "    .dataframe tbody tr th {\n",
       "        vertical-align: top;\n",
       "    }\n",
       "\n",
       "    .dataframe thead th {\n",
       "        text-align: right;\n",
       "    }\n",
       "</style>\n",
       "<table border=\"1\" class=\"dataframe\">\n",
       "  <thead>\n",
       "    <tr style=\"text-align: right;\">\n",
       "      <th></th>\n",
       "      <th>blueWins</th>\n",
       "      <th>blueWardsPlaced</th>\n",
       "      <th>blueWardsDestroyed</th>\n",
       "      <th>blueFirstBlood</th>\n",
       "      <th>blueKills</th>\n",
       "      <th>blueDeaths</th>\n",
       "      <th>blueAssists</th>\n",
       "      <th>blueDragons</th>\n",
       "      <th>blueTowersDestroyed</th>\n",
       "      <th>blueTotalMinionsKilled</th>\n",
       "      <th>...</th>\n",
       "      <th>blueGoldDiff</th>\n",
       "      <th>blueExperienceDiff</th>\n",
       "      <th>redWardsPlaced</th>\n",
       "      <th>redWardsDestroyed</th>\n",
       "      <th>redAssists</th>\n",
       "      <th>redDragons</th>\n",
       "      <th>redTowersDestroyed</th>\n",
       "      <th>redTotalMinionsKilled</th>\n",
       "      <th>redTotalJungleMinionsKilled</th>\n",
       "      <th>heralds</th>\n",
       "    </tr>\n",
       "  </thead>\n",
       "  <tbody>\n",
       "    <tr>\n",
       "      <th>0</th>\n",
       "      <td>0</td>\n",
       "      <td>28</td>\n",
       "      <td>2</td>\n",
       "      <td>1</td>\n",
       "      <td>9</td>\n",
       "      <td>6</td>\n",
       "      <td>11</td>\n",
       "      <td>0</td>\n",
       "      <td>0</td>\n",
       "      <td>195</td>\n",
       "      <td>...</td>\n",
       "      <td>643</td>\n",
       "      <td>-8</td>\n",
       "      <td>15</td>\n",
       "      <td>6</td>\n",
       "      <td>8</td>\n",
       "      <td>0</td>\n",
       "      <td>0</td>\n",
       "      <td>197</td>\n",
       "      <td>55</td>\n",
       "      <td>-1</td>\n",
       "    </tr>\n",
       "    <tr>\n",
       "      <th>1</th>\n",
       "      <td>0</td>\n",
       "      <td>12</td>\n",
       "      <td>1</td>\n",
       "      <td>0</td>\n",
       "      <td>5</td>\n",
       "      <td>5</td>\n",
       "      <td>5</td>\n",
       "      <td>0</td>\n",
       "      <td>0</td>\n",
       "      <td>174</td>\n",
       "      <td>...</td>\n",
       "      <td>-2908</td>\n",
       "      <td>-1173</td>\n",
       "      <td>12</td>\n",
       "      <td>1</td>\n",
       "      <td>2</td>\n",
       "      <td>1</td>\n",
       "      <td>1</td>\n",
       "      <td>240</td>\n",
       "      <td>52</td>\n",
       "      <td>0</td>\n",
       "    </tr>\n",
       "    <tr>\n",
       "      <th>2</th>\n",
       "      <td>0</td>\n",
       "      <td>15</td>\n",
       "      <td>0</td>\n",
       "      <td>0</td>\n",
       "      <td>7</td>\n",
       "      <td>11</td>\n",
       "      <td>4</td>\n",
       "      <td>1</td>\n",
       "      <td>0</td>\n",
       "      <td>186</td>\n",
       "      <td>...</td>\n",
       "      <td>-1172</td>\n",
       "      <td>-1033</td>\n",
       "      <td>15</td>\n",
       "      <td>3</td>\n",
       "      <td>14</td>\n",
       "      <td>0</td>\n",
       "      <td>0</td>\n",
       "      <td>203</td>\n",
       "      <td>28</td>\n",
       "      <td>-1</td>\n",
       "    </tr>\n",
       "    <tr>\n",
       "      <th>3</th>\n",
       "      <td>0</td>\n",
       "      <td>43</td>\n",
       "      <td>1</td>\n",
       "      <td>0</td>\n",
       "      <td>4</td>\n",
       "      <td>5</td>\n",
       "      <td>5</td>\n",
       "      <td>0</td>\n",
       "      <td>0</td>\n",
       "      <td>201</td>\n",
       "      <td>...</td>\n",
       "      <td>-1321</td>\n",
       "      <td>-7</td>\n",
       "      <td>15</td>\n",
       "      <td>2</td>\n",
       "      <td>10</td>\n",
       "      <td>0</td>\n",
       "      <td>0</td>\n",
       "      <td>235</td>\n",
       "      <td>47</td>\n",
       "      <td>1</td>\n",
       "    </tr>\n",
       "    <tr>\n",
       "      <th>4</th>\n",
       "      <td>0</td>\n",
       "      <td>75</td>\n",
       "      <td>4</td>\n",
       "      <td>0</td>\n",
       "      <td>6</td>\n",
       "      <td>6</td>\n",
       "      <td>6</td>\n",
       "      <td>0</td>\n",
       "      <td>0</td>\n",
       "      <td>210</td>\n",
       "      <td>...</td>\n",
       "      <td>-1004</td>\n",
       "      <td>230</td>\n",
       "      <td>17</td>\n",
       "      <td>2</td>\n",
       "      <td>7</td>\n",
       "      <td>1</td>\n",
       "      <td>0</td>\n",
       "      <td>225</td>\n",
       "      <td>67</td>\n",
       "      <td>-1</td>\n",
       "    </tr>\n",
       "    <tr>\n",
       "      <th>...</th>\n",
       "      <td>...</td>\n",
       "      <td>...</td>\n",
       "      <td>...</td>\n",
       "      <td>...</td>\n",
       "      <td>...</td>\n",
       "      <td>...</td>\n",
       "      <td>...</td>\n",
       "      <td>...</td>\n",
       "      <td>...</td>\n",
       "      <td>...</td>\n",
       "      <td>...</td>\n",
       "      <td>...</td>\n",
       "      <td>...</td>\n",
       "      <td>...</td>\n",
       "      <td>...</td>\n",
       "      <td>...</td>\n",
       "      <td>...</td>\n",
       "      <td>...</td>\n",
       "      <td>...</td>\n",
       "      <td>...</td>\n",
       "      <td>...</td>\n",
       "    </tr>\n",
       "    <tr>\n",
       "      <th>9874</th>\n",
       "      <td>1</td>\n",
       "      <td>17</td>\n",
       "      <td>2</td>\n",
       "      <td>1</td>\n",
       "      <td>7</td>\n",
       "      <td>4</td>\n",
       "      <td>5</td>\n",
       "      <td>1</td>\n",
       "      <td>0</td>\n",
       "      <td>211</td>\n",
       "      <td>...</td>\n",
       "      <td>2519</td>\n",
       "      <td>2469</td>\n",
       "      <td>46</td>\n",
       "      <td>3</td>\n",
       "      <td>7</td>\n",
       "      <td>0</td>\n",
       "      <td>0</td>\n",
       "      <td>229</td>\n",
       "      <td>34</td>\n",
       "      <td>-1</td>\n",
       "    </tr>\n",
       "    <tr>\n",
       "      <th>9875</th>\n",
       "      <td>1</td>\n",
       "      <td>54</td>\n",
       "      <td>0</td>\n",
       "      <td>0</td>\n",
       "      <td>6</td>\n",
       "      <td>4</td>\n",
       "      <td>8</td>\n",
       "      <td>1</td>\n",
       "      <td>0</td>\n",
       "      <td>233</td>\n",
       "      <td>...</td>\n",
       "      <td>782</td>\n",
       "      <td>888</td>\n",
       "      <td>12</td>\n",
       "      <td>21</td>\n",
       "      <td>3</td>\n",
       "      <td>0</td>\n",
       "      <td>0</td>\n",
       "      <td>206</td>\n",
       "      <td>56</td>\n",
       "      <td>-1</td>\n",
       "    </tr>\n",
       "    <tr>\n",
       "      <th>9876</th>\n",
       "      <td>0</td>\n",
       "      <td>23</td>\n",
       "      <td>1</td>\n",
       "      <td>0</td>\n",
       "      <td>6</td>\n",
       "      <td>7</td>\n",
       "      <td>5</td>\n",
       "      <td>0</td>\n",
       "      <td>0</td>\n",
       "      <td>210</td>\n",
       "      <td>...</td>\n",
       "      <td>-2416</td>\n",
       "      <td>-1877</td>\n",
       "      <td>14</td>\n",
       "      <td>0</td>\n",
       "      <td>11</td>\n",
       "      <td>1</td>\n",
       "      <td>0</td>\n",
       "      <td>261</td>\n",
       "      <td>60</td>\n",
       "      <td>-1</td>\n",
       "    </tr>\n",
       "    <tr>\n",
       "      <th>9877</th>\n",
       "      <td>0</td>\n",
       "      <td>14</td>\n",
       "      <td>4</td>\n",
       "      <td>1</td>\n",
       "      <td>2</td>\n",
       "      <td>3</td>\n",
       "      <td>3</td>\n",
       "      <td>1</td>\n",
       "      <td>0</td>\n",
       "      <td>224</td>\n",
       "      <td>...</td>\n",
       "      <td>-839</td>\n",
       "      <td>-1085</td>\n",
       "      <td>66</td>\n",
       "      <td>4</td>\n",
       "      <td>1</td>\n",
       "      <td>0</td>\n",
       "      <td>0</td>\n",
       "      <td>247</td>\n",
       "      <td>40</td>\n",
       "      <td>-1</td>\n",
       "    </tr>\n",
       "    <tr>\n",
       "      <th>9878</th>\n",
       "      <td>1</td>\n",
       "      <td>18</td>\n",
       "      <td>0</td>\n",
       "      <td>1</td>\n",
       "      <td>6</td>\n",
       "      <td>6</td>\n",
       "      <td>5</td>\n",
       "      <td>0</td>\n",
       "      <td>0</td>\n",
       "      <td>207</td>\n",
       "      <td>...</td>\n",
       "      <td>927</td>\n",
       "      <td>-58</td>\n",
       "      <td>9</td>\n",
       "      <td>2</td>\n",
       "      <td>4</td>\n",
       "      <td>1</td>\n",
       "      <td>0</td>\n",
       "      <td>201</td>\n",
       "      <td>46</td>\n",
       "      <td>-1</td>\n",
       "    </tr>\n",
       "  </tbody>\n",
       "</table>\n",
       "<p>9879 rows × 21 columns</p>\n",
       "</div>"
      ],
      "text/plain": [
       "      blueWins  blueWardsPlaced  blueWardsDestroyed  blueFirstBlood  \\\n",
       "0            0               28                   2               1   \n",
       "1            0               12                   1               0   \n",
       "2            0               15                   0               0   \n",
       "3            0               43                   1               0   \n",
       "4            0               75                   4               0   \n",
       "...        ...              ...                 ...             ...   \n",
       "9874         1               17                   2               1   \n",
       "9875         1               54                   0               0   \n",
       "9876         0               23                   1               0   \n",
       "9877         0               14                   4               1   \n",
       "9878         1               18                   0               1   \n",
       "\n",
       "      blueKills  blueDeaths  blueAssists  blueDragons  blueTowersDestroyed  \\\n",
       "0             9           6           11            0                    0   \n",
       "1             5           5            5            0                    0   \n",
       "2             7          11            4            1                    0   \n",
       "3             4           5            5            0                    0   \n",
       "4             6           6            6            0                    0   \n",
       "...         ...         ...          ...          ...                  ...   \n",
       "9874          7           4            5            1                    0   \n",
       "9875          6           4            8            1                    0   \n",
       "9876          6           7            5            0                    0   \n",
       "9877          2           3            3            1                    0   \n",
       "9878          6           6            5            0                    0   \n",
       "\n",
       "      blueTotalMinionsKilled  ...  blueGoldDiff  blueExperienceDiff  \\\n",
       "0                        195  ...           643                  -8   \n",
       "1                        174  ...         -2908               -1173   \n",
       "2                        186  ...         -1172               -1033   \n",
       "3                        201  ...         -1321                  -7   \n",
       "4                        210  ...         -1004                 230   \n",
       "...                      ...  ...           ...                 ...   \n",
       "9874                     211  ...          2519                2469   \n",
       "9875                     233  ...           782                 888   \n",
       "9876                     210  ...         -2416               -1877   \n",
       "9877                     224  ...          -839               -1085   \n",
       "9878                     207  ...           927                 -58   \n",
       "\n",
       "      redWardsPlaced  redWardsDestroyed  redAssists  redDragons  \\\n",
       "0                 15                  6           8           0   \n",
       "1                 12                  1           2           1   \n",
       "2                 15                  3          14           0   \n",
       "3                 15                  2          10           0   \n",
       "4                 17                  2           7           1   \n",
       "...              ...                ...         ...         ...   \n",
       "9874              46                  3           7           0   \n",
       "9875              12                 21           3           0   \n",
       "9876              14                  0          11           1   \n",
       "9877              66                  4           1           0   \n",
       "9878               9                  2           4           1   \n",
       "\n",
       "      redTowersDestroyed  redTotalMinionsKilled  redTotalJungleMinionsKilled  \\\n",
       "0                      0                    197                           55   \n",
       "1                      1                    240                           52   \n",
       "2                      0                    203                           28   \n",
       "3                      0                    235                           47   \n",
       "4                      0                    225                           67   \n",
       "...                  ...                    ...                          ...   \n",
       "9874                   0                    229                           34   \n",
       "9875                   0                    206                           56   \n",
       "9876                   0                    261                           60   \n",
       "9877                   0                    247                           40   \n",
       "9878                   0                    201                           46   \n",
       "\n",
       "      heralds  \n",
       "0          -1  \n",
       "1           0  \n",
       "2          -1  \n",
       "3           1  \n",
       "4          -1  \n",
       "...       ...  \n",
       "9874       -1  \n",
       "9875       -1  \n",
       "9876       -1  \n",
       "9877       -1  \n",
       "9878       -1  \n",
       "\n",
       "[9879 rows x 21 columns]"
      ]
     },
     "execution_count": 8,
     "metadata": {},
     "output_type": "execute_result"
    }
   ],
   "source": [
    "dfSimplified"
   ]
  },
  {
   "cell_type": "markdown",
   "id": "81840b6d",
   "metadata": {
    "heading_collapsed": true
   },
   "source": [
    "## Feature mapping"
   ]
  },
  {
   "cell_type": "code",
   "execution_count": null,
   "id": "faf46649",
   "metadata": {
    "hidden": true
   },
   "outputs": [],
   "source": []
  },
  {
   "cell_type": "markdown",
   "id": "95d559b0",
   "metadata": {},
   "source": [
    "# Dédoubler les données"
   ]
  },
  {
   "cell_type": "markdown",
   "id": "9fe5347e",
   "metadata": {},
   "source": [
    "## Objectif\n",
    "Doubler nos données permettrait d'augmenter virtuellement la taille de notre dataset, et donc d'avoir un modèle mieux entraîné et globalement plus fiable.\n",
    "## Problème\n",
    "Le jeu est fait de sorte que chaque équipe ai les même chances de gagner, cependant un aspect important du jeu n'est pas symétrique : les monstres élites.\n",
    "Les monstres élites (dragons et hérauts de la faille) offrent de nombreux avantages aux joueurs (or, expérience, statistiques, prise de tour), mais dû à la forme de la carte, chaque équipe est théoriquement avantagée sur la prise d'un type de monstre élites.\n",
    "\n",
    "![L'image Lol_Map.png n'a pas pu être chargé](images/LoL_Map.png) \n",
    "## Principe\n",
    "Nous allons donc comparer la prévalence des différents monstres élites dans les parties gagnées, ainsi que la proportion de parties où les différents objectifs ont été pris par chaque équipe. Si les monstres élites influent peu sur le taux de victoire, ou si chaque équipe a en réalité le même nombre de monstre élite en moyenne, alors nous pourrons considérer doubler les données."
   ]
  },
  {
   "cell_type": "markdown",
   "id": "8f584dfb",
   "metadata": {},
   "source": [
    "### Hérauts de la faille"
   ]
  },
  {
   "cell_type": "code",
   "execution_count": 9,
   "id": "55d55150",
   "metadata": {},
   "outputs": [
    {
     "name": "stdout",
     "output_type": "stream",
     "text": [
      "Hérauts bleus : 1857\n",
      "Hérauts rouges : 1581\n",
      "Un héraut est fait par l'équipe bleue dans 18.8 % des parties\n",
      "Un héraut est fait par l'équipe rouge dans 16.0 % des parties\n"
     ]
    },
    {
     "data": {
      "image/png": "[encoded data removed]",
      "text/plain": [
       "<Figure size 432x288 with 1 Axes>"
      ]
     },
     "metadata": {
      "needs_background": "light"
     },
     "output_type": "display_data"
    }
   ],
   "source": [
    "def HeraldRepartition(dataframe):\n",
    "    cols = dataframe[dataframe['heralds'] > -1]\n",
    "    blue = 0\n",
    "    red = 0\n",
    "    amount = []\n",
    "\n",
    "    for index, current in cols.iterrows():\n",
    "        if current['heralds'] == 1:\n",
    "            blue = blue + 1\n",
    "        elif current['heralds'] == 0:\n",
    "            red = red + 1\n",
    "        amount.append(1)\n",
    "        \n",
    "    print('Hérauts bleus :', blue)\n",
    "    print('Hérauts rouges :', red)\n",
    "    print('Un héraut est fait par l\\'équipe bleue dans', round(100*blue/len(dataframe), 1), '% des parties')\n",
    "    print('Un héraut est fait par l\\'équipe rouge dans', round(100*red/len(dataframe), 1), '% des parties')\n",
    "    plt.title(\"Répartition des hérauts de la faille par équipe\")\n",
    "    g = sn.barplot(x=\"heralds\",y=amount,data=cols)\n",
    "    g.set(xticklabels=[\"Red team\", \"Blue team\"])\n",
    "    plt.xlabel(\"Équipes\", size=14)\n",
    "    plt.ylabel(\"Nombre de parties\", size=14)\n",
    "    plt.bar(['red', 'blue'], height = [red, blue], color = ['red', 'blue'])\n",
    "    plt.show()\n",
    "HeraldRepartition(dfSimplified)"
   ]
  },
  {
   "cell_type": "markdown",
   "id": "dc154d59",
   "metadata": {},
   "source": [
    "On voit effectivement que l'équipe bleu est avantagée sur la prise des hérauts, la probabilité que l'équipe bleue fasse le héraut est plus élevée de presque 3%. "
   ]
  },
  {
   "cell_type": "code",
   "execution_count": null,
   "id": "76fa7cd0",
   "metadata": {},
   "outputs": [],
   "source": []
  },
  {
   "cell_type": "markdown",
   "id": "a06e2ce1",
   "metadata": {},
   "source": [
    "### Dragons"
   ]
  },
  {
   "cell_type": "code",
   "execution_count": null,
   "id": "78e36c8d",
   "metadata": {},
   "outputs": [],
   "source": []
  }
 ],
 "metadata": {
  "kernelspec": {
   "display_name": "Python 3",
   "language": "python",
   "name": "python3"
  },
  "language_info": {
   "codemirror_mode": {
    "name": "ipython",
    "version": 3
   },
   "file_extension": ".py",
   "mimetype": "text/x-python",
   "name": "python",
   "nbconvert_exporter": "python",
   "pygments_lexer": "ipython3",
   "version": "3.8.10"
  },
  "toc": {
   "base_numbering": 1,
   "nav_menu": {},
   "number_sections": true,
   "sideBar": true,
   "skip_h1_title": false,
   "title_cell": "Table of Contents",
   "title_sidebar": "Contents",
   "toc_cell": false,
   "toc_position": {},
   "toc_section_display": true,
   "toc_window_display": false
  },
  "varInspector": {
   "cols": {
    "lenName": 16,
    "lenType": 16,
    "lenVar": 40
   },
   "kernels_config": {
    "python": {
     "delete_cmd_postfix": "",
     "delete_cmd_prefix": "del ",
     "library": "var_list.py",
     "varRefreshCmd": "print(var_dic_list())"
    },
    "r": {
     "delete_cmd_postfix": ") ",
     "delete_cmd_prefix": "rm(",
     "library": "var_list.r",
     "varRefreshCmd": "cat(var_dic_list()) "
    }
   },
   "types_to_exclude": [
    "module",
    "function",
    "builtin_function_or_method",
    "instance",
    "_Feature"
   ],
   "window_display": false
  }
 },
 "nbformat": 4,
 "nbformat_minor": 5
}
