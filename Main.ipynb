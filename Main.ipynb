{
 "cells": [
  {
   "cell_type": "code",
   "execution_count": 1,
   "id": "4776dc2e",
   "metadata": {},
   "outputs": [],
   "source": [
    "import numpy as np # linear algebra\n",
    "import pandas as pd # data processing, CSV file I/O (e.g. pd.read_csv)\n",
    "import sklearn as skl\n",
    "import math as mt\n",
    "import seaborn as sn\n",
    "import matplotlib.pyplot as plt\n",
    "\n",
    "from scipy import stats\n",
    "from collections import Counter"
   ]
  },
  {
   "cell_type": "code",
   "execution_count": 2,
   "id": "bbf629ad",
   "metadata": {},
   "outputs": [
    {
     "data": {
      "text/plain": [
       "40"
      ]
     },
     "execution_count": 2,
     "metadata": {},
     "output_type": "execute_result"
    }
   ],
   "source": [
    "currentFile = open(\"high_diamond_ranked_10min.csv\")\n",
    "dfInitial = pd.read_csv(currentFile)\n",
    "#dfInitial\n",
    "len(dfInitial.columns)"
   ]
  },
  {
   "cell_type": "code",
   "execution_count": 3,
   "id": "7ea71a98",
   "metadata": {},
   "outputs": [],
   "source": [
    "#Eliminer les outliers (peu/pas de monstres jungles tués, bcp de wards posées, peu de sbires tués)\n",
    "#on s'en branle du gameID\n",
    "#blueDeath et redDeath un peu useless, excepté pour quelques execute (on peut le vérifier)\n",
    "#totalexp et avglevel c'est un peu la même\n",
    "#se contenter de bluegoldiff et blueexpdiff\n",
    "#totalminionkilled et minionperminutes\n",
    "#same pour goldperminute et totalgold\n",
    "#elitemonsters c'est juste la somme des drake et herald (osef)\n",
    "#firstblood redondant (sauf dans les cas à 0 kills mais wsh c'est rare)\n",
    "#TargetValue = blueWin\n",
    "\n",
    "#To drop :\n",
    "#gameId\n",
    "#redAvgLevel, blueAvgLevel, redTotalExperience, blueTotalExperience,\n",
    "#redTotalGold, blueTotalGold, redGoldPerMin, blueGoldPerMin,\n",
    "#redCSPerMin, blueCSPerMin,\n",
    "#redExperienceDiff, redGoldDiff, redFirstBlood"
   ]
  },
  {
   "cell_type": "markdown",
   "id": "ac72bc09",
   "metadata": {},
   "source": [
    "# Preprocessing"
   ]
  },
  {
   "cell_type": "markdown",
   "id": "e9616b84",
   "metadata": {},
   "source": [
    "## Sélection de features"
   ]
  },
  {
   "cell_type": "markdown",
   "id": "9725976f",
   "metadata": {},
   "source": [
    "### Suppression des colonnes redondantes\n",
    "De nombreuses features sont redondantes entre elles, on va donc les supprimer afin de simplifier notre dataset sans pour autant perdre de l'information.\n",
    "\n",
    "**Les informations équivalentes sont les suivantes:**\n",
    "* Le nombre total de sbires tués et le nombre moyen de sbires tués par chaque équipe.\n",
    "* Le total d’or de chaque équipe, et la quantité d’or par minute (de même pour l'expérience).\n",
    "* Le nombre total de monstres élite tués est en fait la somme des dragons et hérauts tués.\n",
    "* Les différences d’or et d’expérience de l'équipe bleu, et celles de l'équipe rouges, peuvent être obtenues grâce au total d'or et d'expérience des 2 équipes\n",
    "* Le nombre total de sbires tués et le nombre de sbires tués par minutes par chaque équipe.\n",
    "* Les morts de chaque équipe sont intimement liés aux kills de l’équipe adverse, bien que la correspondance ne soit pas parfaite dans certaines parties.\n",
    "* Le booléen “first-blood”, indiquant si l'équipe est la première a avoir fait un kill, est présent pour les 2 équipes.\n",
    "\n",
    "**Autre:**\n",
    "* Le gameID permet d'identifier la partie, ce qui n’est pas utile à notre analyse\n",
    "\n",
    "Lorsque chaque équipe possède une feature réprésentant la même information, on privilégiera celle de l'équipe bleue (ex. pour la différence d'or on supprimera redGoldDiff)"
   ]
  },
  {
   "cell_type": "code",
   "execution_count": 4,
   "id": "80c540c4",
   "metadata": {},
   "outputs": [
    {
     "data": {
      "text/plain": [
       "24"
      ]
     },
     "execution_count": 4,
     "metadata": {},
     "output_type": "execute_result"
    }
   ],
   "source": [
    "toDrop = [\"gameId\", \"redAvgLevel\", \"blueAvgLevel\", \"redTotalExperience\", \"blueTotalExperience\",\n",
    "          \"redTotalGold\", \"blueTotalGold\", \"redGoldPerMin\", \"blueGoldPerMin\", \"redCSPerMin\",\"blueCSPerMin\",\n",
    "          \"redExperienceDiff\", \"redGoldDiff\", \"redFirstBlood\", \"redEliteMonsters\", \"blueEliteMonsters\"]\n",
    "dfSimplified = dfInitial.drop(toDrop, axis = 1)\n",
    "#dfSimplified\n",
    "len(dfSimplified.columns)"
   ]
  },
  {
   "cell_type": "markdown",
   "id": "fae1807c",
   "metadata": {},
   "source": [
    "### Colonnes redDeaths et redKills\n",
    "Les morts et les éliminiations d'une équipe sont fortement liées aux éliminations et aux morts de l'autre équipe, mais il est possible que la mort d'un joueur ne compte pas comme une élimination pour l'équipe adverse, on parle alors d'exécution. Nous allons nous intéresser au nombre de parties où ces données diffèrent afin de déterminer s'il est pertinent de supprimer ces features, ou si cela nous ferait perdre trop d'information"
   ]
  },
  {
   "cell_type": "code",
   "execution_count": 5,
   "id": "cd00bef3",
   "metadata": {},
   "outputs": [
    {
     "data": {
      "text/plain": [
       "0"
      ]
     },
     "execution_count": 5,
     "metadata": {},
     "output_type": "execute_result"
    }
   ],
   "source": [
    "dfExecute = dfSimplified[(dfSimplified[\"redDeaths\"] != dfSimplified[\"blueKills\"]) | (dfSimplified[\"redKills\"] != dfSimplified[\"blueDeaths\"])]\n",
    "len(dfExecute)"
   ]
  },
  {
   "cell_type": "markdown",
   "id": "5127a320",
   "metadata": {},
   "source": [
    "On remarque que notre dataset ne contient pas de parties dans laquelle un joueur a été exécuté, nous pouvons donc supprimer ces features sans perdre de l'information"
   ]
  },
  {
   "cell_type": "code",
   "execution_count": 6,
   "id": "6bc51ea2",
   "metadata": {},
   "outputs": [
    {
     "data": {
      "text/plain": [
       "22"
      ]
     },
     "execution_count": 6,
     "metadata": {},
     "output_type": "execute_result"
    }
   ],
   "source": [
    "dfSimplified = dfSimplified.drop([\"redDeaths\", \"redKills\"], axis = 1)\n",
    "#dfSimplified\n",
    "len(dfSimplified.columns)"
   ]
  },
  {
   "cell_type": "markdown",
   "id": "8a80d6fa",
   "metadata": {},
   "source": [
    "### Monstres élites\n",
    "On sait qu'il ne peut y avoir qu'un seul héraut de la faille, et un seul dragon dans les 10 premières minutes, on peut donc fusionner les 2 colonnes blueHeralds et redHeralds (resp. blueDragons et redDragons) on aurait alors 3 valeurs possible : 1, 0 et -1 correspondant respectivement à blue, red et none"
   ]
  },
  {
   "cell_type": "code",
   "execution_count": 7,
   "id": "084f5a91",
   "metadata": {},
   "outputs": [
    {
     "name": "stderr",
     "output_type": "stream",
     "text": [
      "<ipython-input-7-cd6581752390>:2: SettingWithCopyWarning: \n",
      "A value is trying to be set on a copy of a slice from a DataFrame.\n",
      "Try using .loc[row_indexer,col_indexer] = value instead\n",
      "\n",
      "See the caveats in the documentation: https://pandas.pydata.org/pandas-docs/stable/user_guide/indexing.html#returning-a-view-versus-a-copy\n",
      "  colEliteMonsters.loc[:, ['herald', 'dragon']] = -1\n"
     ]
    },
    {
     "data": {
      "text/plain": [
       "20"
      ]
     },
     "execution_count": 7,
     "metadata": {},
     "output_type": "execute_result"
    }
   ],
   "source": [
    "colEliteMonsters = dfSimplified[[\"blueHeralds\", \"redHeralds\", \"redDragons\", \"blueDragons\"]]\n",
    "colEliteMonsters.loc[:, ['herald', 'dragon']] = -1\n",
    "def convertEliteStats(dataframe):\n",
    "    for index, current in dataframe.iterrows():\n",
    "        if current['blueHeralds'] == 1:\n",
    "            current['herald'] = 1\n",
    "        elif current['redHeralds'] == 1:\n",
    "            current['herald'] = 0\n",
    "        if current['blueDragons'] == 1:\n",
    "            current['dragon'] = 1\n",
    "        elif current['redDragons'] == 1:\n",
    "            current['dragon'] = 0\n",
    "    return dataframe[[\"herald\", \"dragon\"]]\n",
    "\n",
    "dfSimplified = dfSimplified.drop([\"redHeralds\", \"blueHeralds\", \"redDragons\", \"blueDragons\"], axis = 1);\n",
    "dfSimplified[[\"herald\", \"dragon\"]] = convertEliteStats(colEliteMonsters)\n",
    "#dfSimplified\n",
    "len(dfSimplified.columns)"
   ]
  },
  {
   "cell_type": "markdown",
   "id": "95d559b0",
   "metadata": {},
   "source": [
    "# Dédoubler les données"
   ]
  },
  {
   "cell_type": "markdown",
   "id": "9fe5347e",
   "metadata": {},
   "source": [
    "## Objectif\n",
    "Doubler nos données permettrait d'augmenter virtuellement la taille de notre dataset, et donc d'avoir un modèle mieux entraîné et globalement plus fiable.\n",
    "## Problème\n",
    "Le jeu est fait de sorte que chaque équipe ai les même chances de gagner, cependant un aspect important du jeu n'est pas symétrique : les monstres élites.\n",
    "Les monstres élites (dragons et hérauts de la faille) offrent de nombreux avantages aux joueurs (or, expérience, statistiques, prise de tour), mais dû à la forme de la carte, chaque équipe est théoriquement avantagée sur la prise d'un type de monstre élites.\n",
    "\n",
    "![L'image Lol_Map.png n'a pas pu être chargé](images/LoL_Map.png) \n",
    "## Principe\n",
    "Nous allons donc comparer la prévalence des différents monstres élites dans les parties gagnées, ainsi que la proportion de parties où les différents objectifs ont été pris par chaque équipe. Si les monstres élites influent peu sur le taux de victoire, ou si chaque équipe a en réalité le même nombre de monstre élite en moyenne, alors nous pourrons considérer doubler les données."
   ]
  },
  {
   "cell_type": "code",
   "execution_count": 8,
   "metadata": {},
   "outputs": [],
   "source": [
    "def EliteMonsterRepartition(dataframe, in_col):\n",
    "    cols = dataframe[dataframe[in_col] > -1]\n",
    "    blue = 0\n",
    "    red = 0\n",
    "    amount = []\n",
    "\n",
    "    for index, current in cols.iterrows():\n",
    "        if current[in_col] == 1:\n",
    "            blue += 1\n",
    "        elif current[in_col] == 0:\n",
    "            red += 1\n",
    "        amount.append(1)\n",
    "\n",
    "    #g = sn.barplot(x=in_col,y=amount,data=cols)\n",
    "    #g.set(xticklabels=[\"Red team\", \"Blue team\"])\n",
    "    plt.figure(figsize=(6,5), dpi=80)\n",
    "    plt.xlabel(\"Équipes\", size=14)\n",
    "    plt.xticks(size=11)\n",
    "    plt.ylabel(\"Nombre de parties\", size=14)\n",
    "    plt.bar(['Red team', 'Blue team'], height = [red, blue], color = ['red', 'blue'])\n",
    "    plt.title(\"Répartition du \" + in_col + \" par équipe\")\n",
    "    plt.savefig(\"images/\" + in_col + '.png', bbox_inches='tight')\n",
    "\n",
    "    plt.show()\n",
    "    print(in_col, 'bleus :', blue)\n",
    "    print(in_col, 'rouges :', red)\n",
    "    print('Un ' + in_col + ' est fait par l\\'équipe bleue dans ' + str(round(100*blue/len(dataframe), 1)) + '% des parties')\n",
    "    print('Un '+ in_col + ' est fait par l\\'équipe rouge dans ' + str(round(100*red/len(dataframe), 1)) + '% des parties')"
   ]
  },
  {
   "cell_type": "markdown",
   "id": "8f584dfb",
   "metadata": {},
   "source": [
    "### Hérauts de la faille"
   ]
  },
  {
   "cell_type": "code",
   "execution_count": 9,
   "id": "55d55150",
   "metadata": {},
   "outputs": [
    {
     "data": {
      "image/png": "[encoded data removed]",
      "text/plain": [
       "<Figure size 480x400 with 1 Axes>"
      ]
     },
     "metadata": {
      "needs_background": "light"
     },
     "output_type": "display_data"
    },
    {
     "name": "stdout",
     "output_type": "stream",
     "text": [
      "herald bleus : 1857\n",
      "herald rouges : 1581\n",
      "Un herald est fait par l'équipe bleue dans 18.8% des parties\n",
      "Un herald est fait par l'équipe rouge dans 16.0% des parties\n"
     ]
    }
   ],
   "source": [
    "EliteMonsterRepartition(dfSimplified, 'herald')"
   ]
  },
  {
   "cell_type": "markdown",
   "id": "dc154d59",
   "metadata": {},
   "source": [
    "On voit effectivement que l'équipe bleu est avantagée sur la prise des hérauts, la probabilité que l'équipe bleue fasse le héraut est plus élevée de presque 3%. "
   ]
  },
  {
   "cell_type": "markdown",
   "id": "a06e2ce1",
   "metadata": {},
   "source": [
    "### Dragons"
   ]
  },
  {
   "cell_type": "code",
   "execution_count": 10,
   "id": "78e36c8d",
   "metadata": {
    "scrolled": false
   },
   "outputs": [
    {
     "data": {
      "image/png": "[encoded data removed]",
      "text/plain": [
       "<Figure size 480x400 with 1 Axes>"
      ]
     },
     "metadata": {
      "needs_background": "light"
     },
     "output_type": "display_data"
    },
    {
     "name": "stdout",
     "output_type": "stream",
     "text": [
      "dragon bleus : 3576\n",
      "dragon rouges : 4081\n",
      "Un dragon est fait par l'équipe bleue dans 36.2% des parties\n",
      "Un dragon est fait par l'équipe rouge dans 41.3% des parties\n"
     ]
    }
   ],
   "source": [
    "EliteMonsterRepartition(dfSimplified, 'dragon')"
   ]
  },
  {
   "cell_type": "markdown",
   "metadata": {},
   "source": [
    "On voit effectivement que l'équipe rouge est avantagée sur la prise des dragons, la probabilité que l'équipe rouge fasse le dragon est plus élevée de 5%. "
   ]
  },
  {
   "cell_type": "markdown",
   "metadata": {},
   "source": [
    "## Analyse"
   ]
  },
  {
   "cell_type": "markdown",
   "metadata": {},
   "source": [
    "On a vérifié que les équipes avaient bien un avantage sur l'accès à un type d'objectif, on s'intéresse maintenant à l'impact que chaque objectif a sur la victoire"
   ]
  },
  {
   "cell_type": "code",
   "execution_count": 11,
   "metadata": {},
   "outputs": [],
   "source": [
    "def WinRepartition(df):\n",
    "    cols = df[[\"blueWins\", \"herald\", \"dragon\"]]\n",
    "    dragon = 0\n",
    "    herald = 0\n",
    "    dragonG = 0\n",
    "    heraldG = 0\n",
    "    amountDragon = 0\n",
    "    amountHerald = 0\n",
    "    #amount = []\n",
    "    \n",
    "    for index, current in cols.iterrows():\n",
    "        if current[\"blueWins\"] == current[\"dragon\"]:\n",
    "            dragonG += 1\n",
    "        if current[\"blueWins\"] == current[\"herald\"]:\n",
    "            heraldG += 1\n",
    "        if current[\"dragon\"] > -1:\n",
    "            dragon += 1\n",
    "        if current[\"herald\"] > -1:\n",
    "            herald += 1\n",
    "        #amount.append(1)\n",
    "    \n",
    "    plt.figure(figsize=(6,5),dpi=80)\n",
    "    plt.xlabel(\"Monstres élites\", size=14)\n",
    "    plt.xticks(size=11)\n",
    "    plt.ylabel(\"Nombre de parties\", size=14)\n",
    "    plt.yticks(np.arange(0, len(df), 500))\n",
    "    plt.bar(['Dragon', 'Héraut'], height = [dragonG, heraldG], color = ['orange', 'purple'])\n",
    "    plt.title(\"Nombre de monstres élites pris par l'équipe gagnante\")\n",
    "    plt.savefig('images/Elite_Monsters_Repartition.png', bbox_inches='tight')\n",
    "\n",
    "    plt.show()\n",
    "    print(dragonG, \"(\" + str(round(100*dragonG/dragon, 1)) + \"%)\" + ' des dragons ont été pris par l\\'équipe gagnante')\n",
    "    print(heraldG, \"(\" + str(round(100*heraldG/herald, 1)) + \"%)\" + ' des hérauts ont été pris par l\\'équipe gagnante')\n",
    "    print('Sur un total de ' + str(len(df)) + ' parties')"
   ]
  },
  {
   "cell_type": "code",
   "execution_count": 12,
   "metadata": {},
   "outputs": [
    {
     "data": {
      "image/png": "[encoded data removed]",
      "text/plain": [
       "<Figure size 480x400 with 1 Axes>"
      ]
     },
     "metadata": {
      "needs_background": "light"
     },
     "output_type": "display_data"
    },
    {
     "name": "stdout",
     "output_type": "stream",
     "text": [
      "4846 (63.3%) des dragons ont été pris par l'équipe gagnante\n",
      "2073 (60.3%) des hérauts ont été pris par l'équipe gagnante\n",
      "Sur un total de 9879 parties\n"
     ]
    }
   ],
   "source": [
    "WinRepartition(dfSimplified)"
   ]
  },
  {
   "cell_type": "markdown",
   "metadata": {},
   "source": [
    "## Bilan\n",
    "Les dragons sont plus faciles à prendre pour l'équipe rouge et ont une meilleure corrélation avec la victoire que les hérauts.  \n",
    "Bien que l'avantage ne soit que de quelques pourcents, il est trop important pour qu'on puisse doubler de manière fiable les données."
   ]
  },
  {
   "cell_type": "markdown",
   "metadata": {},
   "source": [
    "# Chances de victoires\n",
    "Nous venons de nous intéresser aux chances de victoires de l'équipe obtenant un monstre élite dans les 10 premières minutes, et déterminer que celles-ci sont sensiblement plus élevées.  \n",
    "Nous allons maintenant visualiser comment d'autres statistiques du début de partie sont liées à l'issue de celle-ci."
   ]
  },
  {
   "cell_type": "markdown",
   "metadata": {},
   "source": [
    "### Double objectif\n",
    "On s'intéresse dans cette section aux parties dans lesquelles les 2 monstres élites ont été pris par la même équipe."
   ]
  },
  {
   "cell_type": "code",
   "execution_count": 13,
   "metadata": {},
   "outputs": [],
   "source": [
    "dfDouble = dfSimplified[[\"blueWins\", \"herald\", \"dragon\"]]\n",
    "dfDouble = dfDouble[(dfDouble[\"herald\"] > -1) & (dfDouble[\"dragon\"] > -1)]\n",
    "dfDouble = dfDouble[dfDouble[\"herald\"] == dfDouble[\"dragon\"]]"
   ]
  },
  {
   "cell_type": "code",
   "execution_count": 14,
   "metadata": {},
   "outputs": [],
   "source": [
    "#taux de victoire de l'équipe ayant les 2 objectifs dans la même partie\n",
    "def DoubleWinRepartition(df):\n",
    "    blueDoubleWin = 0\n",
    "    redDoubleWin = 0\n",
    "    win = 0\n",
    "    blueTotal = 0\n",
    "    redTotal = 0\n",
    "    \n",
    "    for index, current in df.iterrows(): #len(df) iterations\n",
    "        if current[\"blueWins\"] == current[\"herald\"]: #si le gagnant == double\n",
    "            win += 1\n",
    "            if current[\"blueWins\"] == 1: #si c'est les bleus qui ont gagné\n",
    "                blueDoubleWin += 1\n",
    "                blueTotal += 1\n",
    "            else: #si c'est les rouges\n",
    "                redDoubleWin += 1\n",
    "                redTotal += 1\n",
    "        else: #si le perdant == double\n",
    "            if current[\"blueWins\"] == 1: #le perdant est rouge \n",
    "                redTotal += 1\n",
    "            else: #le perdant est bleu\n",
    "                blueTotal += 1\n",
    "    \n",
    "    plt.figure(figsize=(6,5), dpi=80)\n",
    "    plt.xlabel(\"Équipes\", size = 14)\n",
    "    plt.xticks(size=11)\n",
    "    plt.ylabel(\"Nombre de parties\", size = 14)\n",
    "    plt.bar([\"Blue team\", \"Red team\", \"Total de parties\"], height = [blueTotal, redTotal, len(df)], color=[\"blue\", \"red\", \"green\"])\n",
    "    plt.title(\"Nombre de parties lors de laquelle une équipe a obtenu 2 monstres élites\")\n",
    "    plt.savefig('images/Double_Elite_Amount.png', bbox_inches='tight')\n",
    "    \n",
    "    plt.show()\n",
    "    \n",
    "    print(\"Les 2 monstres élites ont été fait par la même équipe dans\", len(df), \"parties\", \"(\" + str(round(100*len(df)/len(dfSimplified), 1)) + \"%)\")\n",
    "    print(\"Parmi ces parties,\", blueTotal, \"(\" + str(round(100*blueTotal/len(df), 1)) +\"%)\", \"ont été fait par l'équipe bleue\", \"et\", redTotal, \"(\" + str(round(100*redTotal/len(df), 1)) +\"%)\", \"ont été fait par l'équipe rouge\")\n",
    "    \n",
    "    plt.figure(figsize=(6,5), dpi=80)\n",
    "    plt.xticks(size=11)\n",
    "    plt.xlabel(\"Équipes\", size=14)\n",
    "    plt.ylabel(\"Nombre de parties\", size=14)\n",
    "    plt.yticks(np.arange(0, len(df), 100))\n",
    "    plt.bar(['Blue team', 'Red team', 'Total de victoire'], height = [blueDoubleWin, redDoubleWin, win], color = ['blue', 'red', 'green'])\n",
    "    plt.title(\"Nombre de victoires par une équipe ayant obtenu les 2 monstres élites\")\n",
    "    plt.savefig('images/Double_Elite_Winrate.png', bbox_inches='tight')\n",
    "\n",
    "    plt.show()\n",
    "    print(\"Parmi les parties où les 2 monstres élites ont été fait par la même équipe,\", win, \"(\"+ str(round(100*win/len(df))) +\"%)\" , \"ont mené à une victoire\")\n",
    "    print(\"Parmi ces parties, l'équipe bleue a gagné\", blueDoubleWin, \"(\" +str(round(100*blueDoubleWin/blueTotal, 1))+\"%)\", \"fois,\", \"et l'équipe rouge\", redDoubleWin, \"(\"+ str(round(100*redDoubleWin/redTotal, 1)) +\"%)\", \"fois\")\n",
    "    "
   ]
  },
  {
   "cell_type": "code",
   "execution_count": 15,
   "metadata": {},
   "outputs": [
    {
     "data": {
      "image/png": "[encoded data removed]",
      "text/plain": [
       "<Figure size 480x400 with 1 Axes>"
      ]
     },
     "metadata": {
      "needs_background": "light"
     },
     "output_type": "display_data"
    },
    {
     "name": "stdout",
     "output_type": "stream",
     "text": [
      "Les 2 monstres élites ont été fait par la même équipe dans 1440 parties (14.6%)\n",
      "Parmi ces parties, 710 (49.3%) ont été fait par l'équipe bleue et 730 (50.7%) ont été fait par l'équipe rouge\n"
     ]
    },
    {
     "data": {
      "image/png": "[encoded data removed]",
      "text/plain": [
       "<Figure size 480x400 with 1 Axes>"
      ]
     },
     "metadata": {
      "needs_background": "light"
     },
     "output_type": "display_data"
    },
    {
     "name": "stdout",
     "output_type": "stream",
     "text": [
      "Parmi les parties où les 2 monstres élites ont été fait par la même équipe, 1043 (72%) ont mené à une victoire\n",
      "Parmi ces parties, l'équipe bleue a gagné 522 (73.5%) fois, et l'équipe rouge 521 (71.4%) fois\n"
     ]
    }
   ],
   "source": [
    "DoubleWinRepartition(dfDouble)"
   ]
  },
  {
   "cell_type": "markdown",
   "metadata": {},
   "source": [
    "On voit que les 2 équipes obtiennent un double-objectif en proportion égale, avec un léger avantage pour l'équipe rouge. Cela peut s'expliquer par le fait que cette équipe possède un avantage sur la prise du dragon, qui est un objectif bien plus disputer que le héraut de la faille.  \n",
    "Une équipe qui parvient à sécuriser ces 2 objectifs dès le début de la partie a 7 chances sur 10 d'être la future équipe gagnante. Cel fait sens, puisque réussir à obtenir les deux monstres élites en 10 minutes donne un net avantage pour la suite de la partie, mais témoigne aussi d'une avance par rapport à l'équipe adverse, que ce soit en terme de statistiques pures, en terme de coordination d'équipe, ou même de contrôle de la carte. C'est donc un excellent indicateur des chances de victoire d'une équipe."
   ]
  },
  {
   "cell_type": "markdown",
   "metadata": {},
   "source": [
    "### Tourelles\n",
    "Les tourelles empêchent l'équipe adverse d'avancer librement sur la carte, les détruire permet donc de prendre le contrôle et rapporte une quantité conséquente d'or à toute l'équipe.  \n",
    "On s'intéresse dans cette section au nombre de tours prises, ainsi qu'au nombre de tour prise par l'équipe gagnante."
   ]
  },
  {
   "cell_type": "code",
   "execution_count": 16,
   "metadata": {},
   "outputs": [],
   "source": [
    "#taux de victoire en fonction du nombre de tourelles prises\n",
    "def WinrateByTowers(df):\n",
    "    towersDestroyed = []\n",
    "    win = []\n",
    "    \n",
    "    for index, current in df.iterrows():\n",
    "        towersDestroyed.append(current[\"blueTowersDestroyed\"])\n",
    "        towersDestroyed.append(current[\"redTowersDestroyed\"])\n",
    "        if current[\"blueWins\"] == 1:\n",
    "            win.append(current[\"blueTowersDestroyed\"])\n",
    "        else:\n",
    "            win.append(current[\"redTowersDestroyed\"])\n",
    "        \n",
    "    plt.figure(figsize=(8,6), dpi=80)\n",
    "    plt.hist(towersDestroyed,bins = 4)\n",
    "    plt.hist(win, bins = 4)\n",
    "    plt.title(\"Nombre de tours détruites pas parties, et nombre de tours détruites par l'équipe gagnante\", fontsize=13)\n",
    "    plt.xlabel(\"Nombre de tours détuites\", fontsize=16)\n",
    "    plt.xticks(np.arange(0.5, 4.5, 1), [1, 2, 3, 4], fontsize=12)\n",
    "    plt.yticks(np.arange(0, 20000, 1000), fontsize=12)\n",
    "    plt.ylabel(\"Nombre de parties\", fontsize=16)\n",
    "    #plt.yscale(\"log\")\n",
    "    plt.legend([\"Nombre de tours détruites par partie\", \"Nombre de tours détruites par une équipe victorieuse\"])\n",
    "    plt.savefig('images/Towers_Destroyed.png', bbox_inches='tight')\n",
    "    \n",
    "    plt.show()"
   ]
  },
  {
   "cell_type": "code",
   "execution_count": 17,
   "metadata": {},
   "outputs": [
    {
     "data": {
      "image/png": "[encoded data removed]",
      "text/plain": [
       "<Figure size 640x480 with 1 Axes>"
      ]
     },
     "metadata": {
      "needs_background": "light"
     },
     "output_type": "display_data"
    }
   ],
   "source": [
    "WinrateByTowers(dfSimplified)"
   ]
  },
  {
   "cell_type": "markdown",
   "metadata": {},
   "source": [
    "On remarque qu'il est fréquent qu'une des 2 équipes détruise une tour dans les 10 premières minutes, mais ceci n'est en aucun révélateur de l'équipe qui gagnera la partie. En revanche, si une équipe parvient à détruire plus de tour dans ce laps de temps, il est très probable que cette équipe gagne. Cela est d'autant plus valide, que pour qu'une équipe détruise 3 tours ou plus dans les 10 premières minutes, il faut que l'équipe adverse abandonne ou se laisse faire."
   ]
  },
  {
   "cell_type": "markdown",
   "metadata": {},
   "source": [
    "### Premier-sang\n",
    "Le \"premier-sang\" est la première élimination de la partie, elle donne un léger bonus d'or et permet à un joueur de prendre l'avantage dès le début de la partie. On s'attend naturellement à ce que l'équipe obtenant le premier-sang ai plus de chance de victoires, ce que l'on va vérifier."
   ]
  },
  {
   "cell_type": "code",
   "execution_count": 18,
   "metadata": {},
   "outputs": [],
   "source": [
    "#taux de victoire de l'équipe ayant le premier sang\n",
    "def firstBloodRepartition(df):\n",
    "    bluefb = 0\n",
    "    redfb = 0\n",
    "    win = 0\n",
    "    \n",
    "    for index, current in df.iterrows():\n",
    "        \n",
    "        if current[\"blueWins\"] == current[\"blueFirstBlood\"]:\n",
    "            win += 1\n",
    "        if current[\"blueFirstBlood\"] == 1:\n",
    "            bluefb += 1\n",
    "        else:\n",
    "            redfb += 1\n",
    "    \n",
    "    plt.figure(figsize=(6,5), dpi=80)\n",
    "    plt.xlabel(\"Équipes\", size=14)\n",
    "    plt.xticks(size=11)\n",
    "    plt.ylabel(\"Nombre de parties\", size=14)\n",
    "    plt.yticks(np.arange(0, len(df), 500))\n",
    "    plt.bar(['Blue team', 'Red team', 'Total de victoire'], height = [bluefb, redfb, win], color = ['blue', 'red', 'green'])\n",
    "    plt.title(\"Nombre de premier-sang par équipe et total de premier-sang victorieux\")\n",
    "    plt.savefig('images/First_Blood.png', bbox_inches='tight')\n",
    "    \n",
    "    plt.show()\n",
    "    \n",
    "    print(\"L'équipe obtenant le premier sang est victorieuse dans \" + str(round(100*win/len(df), 1)) + \"% des parties\")\n",
    "    print(\"L'équipe bleue obtient le premier-sang dans \" + str(round(100*bluefb/len(df), 1)) + \"% des parties\")\n",
    "    print(\"L'équipe rouge obtient le premier-sang dans \" + str(round(100*redfb/len(df), 1)) + \"% des parties\")"
   ]
  },
  {
   "cell_type": "code",
   "execution_count": 19,
   "metadata": {},
   "outputs": [
    {
     "data": {
      "image/png": "[encoded data removed]",
      "text/plain": [
       "<Figure size 480x400 with 1 Axes>"
      ]
     },
     "metadata": {
      "needs_background": "light"
     },
     "output_type": "display_data"
    },
    {
     "name": "stdout",
     "output_type": "stream",
     "text": [
      "L'équipe obtenant le premier sang est victorieuse dans 60.1% des parties\n",
      "L'équipe bleue obtient le premier-sang dans 50.5% des parties\n",
      "L'équipe rouge obtient le premier-sang dans 49.5% des parties\n"
     ]
    }
   ],
   "source": [
    "firstBloodRepartition(dfSimplified)"
   ]
  },
  {
   "cell_type": "markdown",
   "metadata": {},
   "source": [
    "On remarque que l'équipe bleue a légèrement plus tendance à obtenir le premier-sang. Cela peut s'expliquer grâce aux \"invasions\" de la jungle qui prennent place en début de partie. En effet il arrive souvent qu'une des 2 équipes, voire les 2, décide d'aller à la rencontre de l'équipe adverse pour l'affronter afin de prendre l'avantage le plus tôt possible. La carte étant symétrique par rotation, et les invasions prenant la plupart du temps place sur le bas de la carte, il est possible que le terrain donne l'avantage à l'équipe bleue.  \n",
    "Concernant le taux de victoire, on peut confirmer qu'obtenir le premier-sang est lié à de meilleures chances de gagner. Tout comme pour les doubles-objectifs, obtenir le premier sang témoigne généralement de meilleures compétences ainsi que de meilleures connaissance du jeu de la part d'un joueur, cette avance est encore plus accentuée par l'or gagnée lors de cette élimination."
   ]
  },
  {
   "cell_type": "markdown",
   "metadata": {},
   "source": [
    "### Écart d'or"
   ]
  },
  {
   "cell_type": "code",
   "execution_count": 20,
   "metadata": {},
   "outputs": [],
   "source": [
    "def goldRepartition(df):\n",
    "    gold = df[\"blueGoldDiff\"]\n",
    "    exp = df[\"blueExperienceDiff\"]\n",
    "    winner = df[\"blueWins\"].copy()\n",
    "    winner.loc[winner == 1] = \"blue\"\n",
    "    winner.loc[winner ==0] = \"red\"\n",
    "    \n",
    "    plt.figure(figsize=(6,7), dpi=80)\n",
    "    plt.scatter(gold, exp, c = winner)\n",
    "    plt.xlabel(\"Or\", size=14)\n",
    "    plt.xticks(np.arange(-10000, 12000, 3000),size=11)\n",
    "    plt.ylabel(\"Expérience\", size=14)\n",
    "    plt.yticks(np.arange(-10000, 10000, 1500))\n",
    "    slope, intercept, r_value, p_value, std_err = stats.linregress(gold, exp)\n",
    "    fitLine = slope * gold + intercept\n",
    "    #halfline = -slope * gold + intercept\n",
    "    plt.plot(gold, fitLine, c='green', linewidth = 4)\n",
    "    #plt.plot(gold, halfline, c = 'gray', linewidth =4)\n",
    "    plt.title(\"Vainqueur selon la différence d'or et d'expérience entre les équipes\")\n",
    "    plt.savefig('images/Winner_by_Gold_Exp.png', bbox_inches='tight')\n",
    "    \n",
    "    plt.show()\n",
    "    \n",
    "    print(\"On détermine que la pente liant l'or et l'expérience d'une équipe est d'équation : exp =\", str(round(slope, 1)) +\"*gold\" + str(round(intercept, 1)))"
   ]
  },
  {
   "cell_type": "code",
   "execution_count": 21,
   "metadata": {
    "scrolled": false
   },
   "outputs": [
    {
     "name": "stderr",
     "output_type": "stream",
     "text": [
      "/usr/lib/python3/dist-packages/matplotlib/cbook/__init__.py:1402: FutureWarning: Support for multi-dimensional indexing (e.g. `obj[:, None]`) is deprecated and will be removed in a future version.  Convert to a numpy array before indexing instead.\n",
      "  ndim = x[:, None].ndim\n",
      "/usr/lib/python3/dist-packages/matplotlib/axes/_base.py:276: FutureWarning: Support for multi-dimensional indexing (e.g. `obj[:, None]`) is deprecated and will be removed in a future version.  Convert to a numpy array before indexing instead.\n",
      "  x = x[:, np.newaxis]\n",
      "/usr/lib/python3/dist-packages/matplotlib/axes/_base.py:278: FutureWarning: Support for multi-dimensional indexing (e.g. `obj[:, None]`) is deprecated and will be removed in a future version.  Convert to a numpy array before indexing instead.\n",
      "  y = y[:, np.newaxis]\n"
     ]
    },
    {
     "data": {
      "image/png": "[encoded data removed]",
      "text/plain": [
       "<Figure size 480x560 with 1 Axes>"
      ]
     },
     "metadata": {
      "needs_background": "light"
     },
     "output_type": "display_data"
    },
    {
     "name": "stdout",
     "output_type": "stream",
     "text": [
      "On détermine que la pente liant l'or et l'expérience d'une équipe est d'équation : exp = 0.7*gold-43.7\n"
     ]
    }
   ],
   "source": [
    "goldRepartition(dfSimplified)"
   ]
  },
  {
   "cell_type": "markdown",
   "metadata": {},
   "source": [
    "Ces deux caractéristiques sont les plus importantes pour déterminer la force d'une équipe et semblent corrélées, il n'y a que 2 aspects du jeu qui impactent à la fois l'or et l'expérience de manière significative:\n",
    "* Les sbires qui offrent un peu d'or et d'expérience (et par extension les morts qui font louper des sbires)\n",
    "* Les éliminations qui offrent beaucoup d'or et un peu d'expérience  \n",
    "On remarque qu'une différence d'or et d'expérience trop importante garanti la victoire d'une équipe, il faut donc logiquement capitaliser sur les sbires et les éliminations dès le début de partie."
   ]
  },
  {
   "cell_type": "code",
   "execution_count": 22,
   "metadata": {},
   "outputs": [
    {
     "data": {
      "text/html": [
       "<div>\n",
       "<style scoped>\n",
       "    .dataframe tbody tr th:only-of-type {\n",
       "        vertical-align: middle;\n",
       "    }\n",
       "\n",
       "    .dataframe tbody tr th {\n",
       "        vertical-align: top;\n",
       "    }\n",
       "\n",
       "    .dataframe thead th {\n",
       "        text-align: right;\n",
       "    }\n",
       "</style>\n",
       "<table border=\"1\" class=\"dataframe\">\n",
       "  <thead>\n",
       "    <tr style=\"text-align: right;\">\n",
       "      <th></th>\n",
       "      <th>blueWins</th>\n",
       "      <th>blueWardsPlaced</th>\n",
       "      <th>blueWardsDestroyed</th>\n",
       "      <th>blueFirstBlood</th>\n",
       "      <th>blueKills</th>\n",
       "      <th>blueDeaths</th>\n",
       "      <th>blueAssists</th>\n",
       "      <th>blueTowersDestroyed</th>\n",
       "      <th>blueTotalMinionsKilled</th>\n",
       "      <th>blueTotalJungleMinionsKilled</th>\n",
       "      <th>blueGoldDiff</th>\n",
       "      <th>blueExperienceDiff</th>\n",
       "      <th>redWardsPlaced</th>\n",
       "      <th>redWardsDestroyed</th>\n",
       "      <th>redAssists</th>\n",
       "      <th>redTowersDestroyed</th>\n",
       "      <th>redTotalMinionsKilled</th>\n",
       "      <th>redTotalJungleMinionsKilled</th>\n",
       "      <th>herald</th>\n",
       "      <th>dragon</th>\n",
       "    </tr>\n",
       "  </thead>\n",
       "  <tbody>\n",
       "    <tr>\n",
       "      <th>0</th>\n",
       "      <td>0</td>\n",
       "      <td>28</td>\n",
       "      <td>2</td>\n",
       "      <td>1</td>\n",
       "      <td>9</td>\n",
       "      <td>6</td>\n",
       "      <td>11</td>\n",
       "      <td>0</td>\n",
       "      <td>195</td>\n",
       "      <td>36</td>\n",
       "      <td>643</td>\n",
       "      <td>-8</td>\n",
       "      <td>15</td>\n",
       "      <td>6</td>\n",
       "      <td>8</td>\n",
       "      <td>0</td>\n",
       "      <td>197</td>\n",
       "      <td>55</td>\n",
       "      <td>-1</td>\n",
       "      <td>-1</td>\n",
       "    </tr>\n",
       "    <tr>\n",
       "      <th>1</th>\n",
       "      <td>0</td>\n",
       "      <td>12</td>\n",
       "      <td>1</td>\n",
       "      <td>0</td>\n",
       "      <td>5</td>\n",
       "      <td>5</td>\n",
       "      <td>5</td>\n",
       "      <td>0</td>\n",
       "      <td>174</td>\n",
       "      <td>43</td>\n",
       "      <td>-2908</td>\n",
       "      <td>-1173</td>\n",
       "      <td>12</td>\n",
       "      <td>1</td>\n",
       "      <td>2</td>\n",
       "      <td>1</td>\n",
       "      <td>240</td>\n",
       "      <td>52</td>\n",
       "      <td>0</td>\n",
       "      <td>0</td>\n",
       "    </tr>\n",
       "    <tr>\n",
       "      <th>2</th>\n",
       "      <td>0</td>\n",
       "      <td>15</td>\n",
       "      <td>0</td>\n",
       "      <td>0</td>\n",
       "      <td>7</td>\n",
       "      <td>11</td>\n",
       "      <td>4</td>\n",
       "      <td>0</td>\n",
       "      <td>186</td>\n",
       "      <td>46</td>\n",
       "      <td>-1172</td>\n",
       "      <td>-1033</td>\n",
       "      <td>15</td>\n",
       "      <td>3</td>\n",
       "      <td>14</td>\n",
       "      <td>0</td>\n",
       "      <td>203</td>\n",
       "      <td>28</td>\n",
       "      <td>-1</td>\n",
       "      <td>1</td>\n",
       "    </tr>\n",
       "    <tr>\n",
       "      <th>3</th>\n",
       "      <td>0</td>\n",
       "      <td>43</td>\n",
       "      <td>1</td>\n",
       "      <td>0</td>\n",
       "      <td>4</td>\n",
       "      <td>5</td>\n",
       "      <td>5</td>\n",
       "      <td>0</td>\n",
       "      <td>201</td>\n",
       "      <td>55</td>\n",
       "      <td>-1321</td>\n",
       "      <td>-7</td>\n",
       "      <td>15</td>\n",
       "      <td>2</td>\n",
       "      <td>10</td>\n",
       "      <td>0</td>\n",
       "      <td>235</td>\n",
       "      <td>47</td>\n",
       "      <td>1</td>\n",
       "      <td>-1</td>\n",
       "    </tr>\n",
       "    <tr>\n",
       "      <th>4</th>\n",
       "      <td>0</td>\n",
       "      <td>75</td>\n",
       "      <td>4</td>\n",
       "      <td>0</td>\n",
       "      <td>6</td>\n",
       "      <td>6</td>\n",
       "      <td>6</td>\n",
       "      <td>0</td>\n",
       "      <td>210</td>\n",
       "      <td>57</td>\n",
       "      <td>-1004</td>\n",
       "      <td>230</td>\n",
       "      <td>17</td>\n",
       "      <td>2</td>\n",
       "      <td>7</td>\n",
       "      <td>0</td>\n",
       "      <td>225</td>\n",
       "      <td>67</td>\n",
       "      <td>-1</td>\n",
       "      <td>0</td>\n",
       "    </tr>\n",
       "    <tr>\n",
       "      <th>...</th>\n",
       "      <td>...</td>\n",
       "      <td>...</td>\n",
       "      <td>...</td>\n",
       "      <td>...</td>\n",
       "      <td>...</td>\n",
       "      <td>...</td>\n",
       "      <td>...</td>\n",
       "      <td>...</td>\n",
       "      <td>...</td>\n",
       "      <td>...</td>\n",
       "      <td>...</td>\n",
       "      <td>...</td>\n",
       "      <td>...</td>\n",
       "      <td>...</td>\n",
       "      <td>...</td>\n",
       "      <td>...</td>\n",
       "      <td>...</td>\n",
       "      <td>...</td>\n",
       "      <td>...</td>\n",
       "      <td>...</td>\n",
       "    </tr>\n",
       "    <tr>\n",
       "      <th>9874</th>\n",
       "      <td>1</td>\n",
       "      <td>17</td>\n",
       "      <td>2</td>\n",
       "      <td>1</td>\n",
       "      <td>7</td>\n",
       "      <td>4</td>\n",
       "      <td>5</td>\n",
       "      <td>0</td>\n",
       "      <td>211</td>\n",
       "      <td>69</td>\n",
       "      <td>2519</td>\n",
       "      <td>2469</td>\n",
       "      <td>46</td>\n",
       "      <td>3</td>\n",
       "      <td>7</td>\n",
       "      <td>0</td>\n",
       "      <td>229</td>\n",
       "      <td>34</td>\n",
       "      <td>-1</td>\n",
       "      <td>1</td>\n",
       "    </tr>\n",
       "    <tr>\n",
       "      <th>9875</th>\n",
       "      <td>1</td>\n",
       "      <td>54</td>\n",
       "      <td>0</td>\n",
       "      <td>0</td>\n",
       "      <td>6</td>\n",
       "      <td>4</td>\n",
       "      <td>8</td>\n",
       "      <td>0</td>\n",
       "      <td>233</td>\n",
       "      <td>48</td>\n",
       "      <td>782</td>\n",
       "      <td>888</td>\n",
       "      <td>12</td>\n",
       "      <td>21</td>\n",
       "      <td>3</td>\n",
       "      <td>0</td>\n",
       "      <td>206</td>\n",
       "      <td>56</td>\n",
       "      <td>-1</td>\n",
       "      <td>1</td>\n",
       "    </tr>\n",
       "    <tr>\n",
       "      <th>9876</th>\n",
       "      <td>0</td>\n",
       "      <td>23</td>\n",
       "      <td>1</td>\n",
       "      <td>0</td>\n",
       "      <td>6</td>\n",
       "      <td>7</td>\n",
       "      <td>5</td>\n",
       "      <td>0</td>\n",
       "      <td>210</td>\n",
       "      <td>45</td>\n",
       "      <td>-2416</td>\n",
       "      <td>-1877</td>\n",
       "      <td>14</td>\n",
       "      <td>0</td>\n",
       "      <td>11</td>\n",
       "      <td>0</td>\n",
       "      <td>261</td>\n",
       "      <td>60</td>\n",
       "      <td>-1</td>\n",
       "      <td>0</td>\n",
       "    </tr>\n",
       "    <tr>\n",
       "      <th>9877</th>\n",
       "      <td>0</td>\n",
       "      <td>14</td>\n",
       "      <td>4</td>\n",
       "      <td>1</td>\n",
       "      <td>2</td>\n",
       "      <td>3</td>\n",
       "      <td>3</td>\n",
       "      <td>0</td>\n",
       "      <td>224</td>\n",
       "      <td>48</td>\n",
       "      <td>-839</td>\n",
       "      <td>-1085</td>\n",
       "      <td>66</td>\n",
       "      <td>4</td>\n",
       "      <td>1</td>\n",
       "      <td>0</td>\n",
       "      <td>247</td>\n",
       "      <td>40</td>\n",
       "      <td>-1</td>\n",
       "      <td>1</td>\n",
       "    </tr>\n",
       "    <tr>\n",
       "      <th>9878</th>\n",
       "      <td>1</td>\n",
       "      <td>18</td>\n",
       "      <td>0</td>\n",
       "      <td>1</td>\n",
       "      <td>6</td>\n",
       "      <td>6</td>\n",
       "      <td>5</td>\n",
       "      <td>0</td>\n",
       "      <td>207</td>\n",
       "      <td>44</td>\n",
       "      <td>927</td>\n",
       "      <td>-58</td>\n",
       "      <td>9</td>\n",
       "      <td>2</td>\n",
       "      <td>4</td>\n",
       "      <td>0</td>\n",
       "      <td>201</td>\n",
       "      <td>46</td>\n",
       "      <td>-1</td>\n",
       "      <td>0</td>\n",
       "    </tr>\n",
       "  </tbody>\n",
       "</table>\n",
       "<p>9879 rows × 20 columns</p>\n",
       "</div>"
      ],
      "text/plain": [
       "      blueWins  blueWardsPlaced  blueWardsDestroyed  blueFirstBlood  \\\n",
       "0            0               28                   2               1   \n",
       "1            0               12                   1               0   \n",
       "2            0               15                   0               0   \n",
       "3            0               43                   1               0   \n",
       "4            0               75                   4               0   \n",
       "...        ...              ...                 ...             ...   \n",
       "9874         1               17                   2               1   \n",
       "9875         1               54                   0               0   \n",
       "9876         0               23                   1               0   \n",
       "9877         0               14                   4               1   \n",
       "9878         1               18                   0               1   \n",
       "\n",
       "      blueKills  blueDeaths  blueAssists  blueTowersDestroyed  \\\n",
       "0             9           6           11                    0   \n",
       "1             5           5            5                    0   \n",
       "2             7          11            4                    0   \n",
       "3             4           5            5                    0   \n",
       "4             6           6            6                    0   \n",
       "...         ...         ...          ...                  ...   \n",
       "9874          7           4            5                    0   \n",
       "9875          6           4            8                    0   \n",
       "9876          6           7            5                    0   \n",
       "9877          2           3            3                    0   \n",
       "9878          6           6            5                    0   \n",
       "\n",
       "      blueTotalMinionsKilled  blueTotalJungleMinionsKilled  blueGoldDiff  \\\n",
       "0                        195                            36           643   \n",
       "1                        174                            43         -2908   \n",
       "2                        186                            46         -1172   \n",
       "3                        201                            55         -1321   \n",
       "4                        210                            57         -1004   \n",
       "...                      ...                           ...           ...   \n",
       "9874                     211                            69          2519   \n",
       "9875                     233                            48           782   \n",
       "9876                     210                            45         -2416   \n",
       "9877                     224                            48          -839   \n",
       "9878                     207                            44           927   \n",
       "\n",
       "      blueExperienceDiff  redWardsPlaced  redWardsDestroyed  redAssists  \\\n",
       "0                     -8              15                  6           8   \n",
       "1                  -1173              12                  1           2   \n",
       "2                  -1033              15                  3          14   \n",
       "3                     -7              15                  2          10   \n",
       "4                    230              17                  2           7   \n",
       "...                  ...             ...                ...         ...   \n",
       "9874                2469              46                  3           7   \n",
       "9875                 888              12                 21           3   \n",
       "9876               -1877              14                  0          11   \n",
       "9877               -1085              66                  4           1   \n",
       "9878                 -58               9                  2           4   \n",
       "\n",
       "      redTowersDestroyed  redTotalMinionsKilled  redTotalJungleMinionsKilled  \\\n",
       "0                      0                    197                           55   \n",
       "1                      1                    240                           52   \n",
       "2                      0                    203                           28   \n",
       "3                      0                    235                           47   \n",
       "4                      0                    225                           67   \n",
       "...                  ...                    ...                          ...   \n",
       "9874                   0                    229                           34   \n",
       "9875                   0                    206                           56   \n",
       "9876                   0                    261                           60   \n",
       "9877                   0                    247                           40   \n",
       "9878                   0                    201                           46   \n",
       "\n",
       "      herald  dragon  \n",
       "0         -1      -1  \n",
       "1          0       0  \n",
       "2         -1       1  \n",
       "3          1      -1  \n",
       "4         -1       0  \n",
       "...      ...     ...  \n",
       "9874      -1       1  \n",
       "9875      -1       1  \n",
       "9876      -1       0  \n",
       "9877      -1       1  \n",
       "9878      -1       0  \n",
       "\n",
       "[9879 rows x 20 columns]"
      ]
     },
     "execution_count": 22,
     "metadata": {},
     "output_type": "execute_result"
    }
   ],
   "source": [
    "dfSimplified"
   ]
  },
  {
   "cell_type": "markdown",
   "metadata": {},
   "source": [
    "### Prise de vision\n",
    "On s'intéresse dans cette section à la prise de vision, c'est à dire aux balises placées  \n",
    "Le délai de récupération des balises étant d'environ 200 secondes, en comptant les balises que l'on peut acheter dans la boutique, on peut estimer le nombre maximum de balises placées par une équipe à 60 et ainsi éliminer les parties dans lesquelles un joueur à profiter d'un objet pour placer plusieurs dizaines de balises dans sa base. Cela n'a pas d'intérêt, et ne coûte rien au joueur, c'est pourquoi on ne les supprime pas complètement du dataset."
   ]
  },
  {
   "cell_type": "code",
   "execution_count": 35,
   "metadata": {},
   "outputs": [],
   "source": [
    "dfVision = df.copy()\n",
    "dfVision = dfVision[[\"blueWins\", \"blueWardsPlaced\", \"redWardsPlaced\"]]\n",
    "dfVision = dfVision[(dfVision[\"blueWardsPlaced\"] <= 60) & (dfVision[\"redWardsPlaced\"] <= 60)]"
   ]
  },
  {
   "cell_type": "code",
   "execution_count": 36,
   "metadata": {},
   "outputs": [],
   "source": [
    "def GameByVision(df):\n",
    "    #bbalises = df[df[\"blueWardsPlaced\"] < 175]\n",
    "    #balises = balises[balises[\"blueWardsPl\"]]\n",
    "    \n",
    "    plt.figure(figsize=(6,5), dpi=80)\n",
    "    plt.xlabel(\"Nombre de balises\", size=14)\n",
    "    plt.ylabel(\"Nombre de parties\", size=14)\n",
    "    \n",
    "    plt.hist(df[\"blueWardsPlaced\"],bins = 'auto')\n",
    "    plt.hist(df[\"redWardsPlaced\"], bins = 'auto')\n",
    "    \n",
    "    plt.show()\n"
   ]
  },
  {
   "cell_type": "code",
   "execution_count": 37,
   "metadata": {},
   "outputs": [
    {
     "data": {
      "image/png": "[encoded data removed]",
      "text/plain": [
       "<Figure size 480x400 with 1 Axes>"
      ]
     },
     "metadata": {
      "needs_background": "light"
     },
     "output_type": "display_data"
    }
   ],
   "source": [
    "GameByVision(dfVision)"
   ]
  },
  {
   "cell_type": "code",
   "execution_count": null,
   "metadata": {},
   "outputs": [],
   "source": []
  },
  {
   "cell_type": "markdown",
   "metadata": {},
   "source": [
    "# Modélisation"
   ]
  },
  {
   "cell_type": "code",
   "execution_count": 25,
   "metadata": {},
   "outputs": [],
   "source": [
    "from sklearn import svm\n",
    "from sklearn.preprocessing import StandardScaler\n",
    "from sklearn.pipeline import make_pipeline\n",
    "from sklearn.neural_network import MLPClassifier as mlp\n",
    "import sys\n",
    "df = dfSimplified\n",
    "part = round(len(df)/10) #découpage du dataset en tranche de 10"
   ]
  },
  {
   "cell_type": "markdown",
   "metadata": {},
   "source": [
    "## Phase d'entraînement"
   ]
  },
  {
   "cell_type": "code",
   "execution_count": 26,
   "metadata": {
    "scrolled": true
   },
   "outputs": [],
   "source": [
    "Xtrain = df.iloc[0:8*part, 1:] #les 8 premiers dixième, et toutes les colonnes sauf la n°0\n",
    "Ytrain = df.iloc[0:8*part, 0] #les 8 premiers dixième, et la colonne 0 (les target values)"
   ]
  },
  {
   "cell_type": "code",
   "execution_count": 27,
   "metadata": {},
   "outputs": [
    {
     "data": {
      "text/plain": [
       "Pipeline(steps=[('standardscaler', StandardScaler()), ('svc', SVC())])"
      ]
     },
     "execution_count": 27,
     "metadata": {},
     "output_type": "execute_result"
    }
   ],
   "source": [
    "svm1 = svm.SVC() #Support vector machine, c'est là dedans qu'il faut mettre les paramètres\n",
    "clf = make_pipeline(StandardScaler(), svm1) #je sais pas ce que ça fait\n",
    "clf.fit(Xtrain, Ytrain) #Training"
   ]
  },
  {
   "cell_type": "code",
   "execution_count": 28,
   "metadata": {},
   "outputs": [],
   "source": [
    "#pour vérifier le modèle\n",
    "Xtest = df.iloc[8*part:9*part, 1:] #le 9ème dixième, et toutes les colonnes sauf la n°0\n",
    "Ytest = df.iloc[8*part:9*part, 0] #le 9ème dixième, et la colonne 0 (lest target values)"
   ]
  },
  {
   "cell_type": "code",
   "execution_count": 29,
   "metadata": {
    "scrolled": true
   },
   "outputs": [],
   "source": [
    "resultest = clf.predict(Xtest) #le résultat de la prédiction sur le set de test"
   ]
  },
  {
   "cell_type": "code",
   "execution_count": 30,
   "metadata": {},
   "outputs": [
    {
     "name": "stdout",
     "output_type": "stream",
     "text": [
      "Total : 988\n",
      "Correct : 722\n",
      "73.1%\n"
     ]
    }
   ],
   "source": [
    "def compare(test, Ytest):\n",
    "    Yarray = Ytest.to_numpy() #transformation du dataframe (pandas) en array\n",
    "    total = 0 #le nombre total de ligne\n",
    "    correct = 0 #le nombre de ligne où le guess était bon\n",
    "    for index in range(len(test)):\n",
    "        if test[index] == Yarray[index]:\n",
    "            correct += 1\n",
    "        total += 1\n",
    "    print(\"Total : \" + str(total))\n",
    "    print(\"Correct : \" + str(correct))\n",
    "    print(str(round(100*correct/total, 1)) + \"%\")\n",
    "    \n",
    "compare(resultest, Ytest)"
   ]
  },
  {
   "cell_type": "code",
   "execution_count": null,
   "metadata": {},
   "outputs": [],
   "source": []
  },
  {
   "cell_type": "markdown",
   "metadata": {},
   "source": [
    "## Truc"
   ]
  },
  {
   "cell_type": "code",
   "execution_count": null,
   "metadata": {},
   "outputs": [],
   "source": []
  }
 ],
 "metadata": {
  "kernelspec": {
   "display_name": "Python 3",
   "language": "python",
   "name": "python3"
  },
  "language_info": {
   "codemirror_mode": {
    "name": "ipython",
    "version": 3
   },
   "file_extension": ".py",
   "mimetype": "text/x-python",
   "name": "python",
   "nbconvert_exporter": "python",
   "pygments_lexer": "ipython3",
   "version": "3.8.10"
  },
  "toc": {
   "base_numbering": 1,
   "nav_menu": {},
   "number_sections": true,
   "sideBar": true,
   "skip_h1_title": false,
   "title_cell": "Table of Contents",
   "title_sidebar": "Contents",
   "toc_cell": false,
   "toc_position": {},
   "toc_section_display": true,
   "toc_window_display": false
  },
  "varInspector": {
   "cols": {
    "lenName": 16,
    "lenType": 16,
    "lenVar": 40
   },
   "kernels_config": {
    "python": {
     "delete_cmd_postfix": "",
     "delete_cmd_prefix": "del ",
     "library": "var_list.py",
     "varRefreshCmd": "print(var_dic_list())"
    },
    "r": {
     "delete_cmd_postfix": ") ",
     "delete_cmd_prefix": "rm(",
     "library": "var_list.r",
     "varRefreshCmd": "cat(var_dic_list()) "
    }
   },
   "types_to_exclude": [
    "module",
    "function",
    "builtin_function_or_method",
    "instance",
    "_Feature"
   ],
   "window_display": false
  }
 },
 "nbformat": 4,
 "nbformat_minor": 5
}
