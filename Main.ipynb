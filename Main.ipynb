{
 "cells": [
  {
   "cell_type": "code",
   "execution_count": 1,
   "id": "4776dc2e",
   "metadata": {},
   "outputs": [],
   "source": [
    "import numpy as np # linear algebra\n",
    "import pandas as pd # data processing, CSV file I/O (e.g. pd.read_csv)\n",
    "import sklearn as skl\n",
    "import math as mt\n",
    "import seaborn as sn\n",
    "import matplotlib.pyplot as plt\n",
    "\n",
    "from collections import Counter"
   ]
  },
  {
   "cell_type": "code",
   "execution_count": 2,
   "id": "bbf629ad",
   "metadata": {},
   "outputs": [
    {
     "data": {
      "text/plain": [
       "40"
      ]
     },
     "execution_count": 2,
     "metadata": {},
     "output_type": "execute_result"
    }
   ],
   "source": [
    "currentFile = open(\"high_diamond_ranked_10min.csv\")\n",
    "dfInitial = pd.read_csv(currentFile)\n",
    "#dfInitial\n",
    "len(dfInitial.columns)"
   ]
  },
  {
   "cell_type": "code",
   "execution_count": 3,
   "id": "7ea71a98",
   "metadata": {},
   "outputs": [],
   "source": [
    "#Eliminer les outliers (peu/pas de monstres jungles tués, bcp de wards posées, peu de sbires tués)\n",
    "#on s'en branle du gameID\n",
    "#blueDeath et redDeath un peu useless, excepté pour quelques execute (on peut le vérifier)\n",
    "#totalexp et avglevel c'est un peu la même\n",
    "#se contenter de bluegoldiff et blueexpdiff\n",
    "#totalminionkilled et minionperminutes\n",
    "#same pour goldperminute et totalgold\n",
    "#elitemonsters c'est juste la somme des drake et herald (osef)\n",
    "#firstblood redondant (sauf dans les cas à 0 kills mais wsh c'est rare)\n",
    "#TargetValue = blueWin\n",
    "\n",
    "#To drop :\n",
    "#gameId\n",
    "#redAvgLevel, blueAvgLevel, redTotalExperience, blueTotalExperience,\n",
    "#redTotalGold, blueTotalGold, redGoldPerMin, blueGoldPerMin,\n",
    "#redCSPerMin, blueCSPerMin,\n",
    "#redExperienceDiff, redGoldDiff, redFirstBlood"
   ]
  },
  {
   "cell_type": "markdown",
   "id": "ac72bc09",
   "metadata": {},
   "source": [
    "# Preprocessing"
   ]
  },
  {
   "cell_type": "markdown",
   "id": "e9616b84",
   "metadata": {},
   "source": [
    "## Sélection de features"
   ]
  },
  {
   "cell_type": "markdown",
   "id": "9725976f",
   "metadata": {},
   "source": [
    "### Suppression des colonnes redondantes\n",
    "De nombreuses features sont redondantes entre elles, on va donc les supprimer afin de simplifier notre dataset sans pour autant perdre de l'information.\n",
    "\n",
    "**Les informations équivalentes sont les suivantes:**\n",
    "* Le nombre total de sbires tués et le nombre moyen de sbires tués par chaque équipe.\n",
    "* Le total d’or de chaque équipe, et le nombre d’or par minute.\n",
    "* Le nombre total de monstres élite tués est en fait la somme des dragons et hérauts tués.\n",
    "* Les différences d’or et d’expérience de l'équipe bleu, et celles de l'équipe rouges, peuvent être obtenues grâce au total d'or des 2 équipes\n",
    "* Le nombre total de sbires tués et le nombre de sbires tués par minutes par chaque équipe.\n",
    "* Les morts de chaque équipe sont intimement liés aux kills de l’équipe adverse, bien que la correspondance ne soit pas parfaite dans certaines parties.\n",
    "* Le booléen “first-blood”, indiquant si l'équipe est la première a avoir fait un kill, est présent pour les 2 équipes.\n",
    "\n",
    "**Autre:**\n",
    "* Le gameID permet d'identifier la partie, ce qui n’est pas utile à notre analyse\n",
    "\n",
    "Lorsque chaque équipe possède une feature réprésentant la même information, on privilégiera celle de l'équipe bleue (ex. pour la différence d'or on supprimera redGoldDiff)"
   ]
  },
  {
   "cell_type": "code",
   "execution_count": 4,
   "id": "80c540c4",
   "metadata": {},
   "outputs": [
    {
     "data": {
      "text/plain": [
       "24"
      ]
     },
     "execution_count": 4,
     "metadata": {},
     "output_type": "execute_result"
    }
   ],
   "source": [
    "toDrop = [\"gameId\", \"redAvgLevel\", \"blueAvgLevel\", \"redTotalExperience\", \"blueTotalExperience\",\n",
    "          \"redTotalGold\", \"blueTotalGold\", \"redGoldPerMin\", \"blueGoldPerMin\", \"redCSPerMin\",\"blueCSPerMin\",\n",
    "          \"redExperienceDiff\", \"redGoldDiff\", \"redFirstBlood\", \"redEliteMonsters\", \"blueEliteMonsters\"]\n",
    "dfSimplified = dfInitial.drop(toDrop, axis = 1)\n",
    "#dfSimplified\n",
    "len(dfSimplified.columns)"
   ]
  },
  {
   "cell_type": "markdown",
   "id": "fae1807c",
   "metadata": {},
   "source": [
    "### Colonnes redDeaths et redKills\n",
    "Les morts et les éliminiations d'une équipe sont fortement liées aux éliminations et aux morts de l'autre équipe, mais il est possible que la mort d'un joueur ne compte pas comme une élimination pour l'équipe adverse, on parle alors d'exécution. Nous allons nous intéresser au nombre de parties où ces données diffèrent afin de déterminer s'il est pertinent de supprimer ces features, ou si cela nous ferait perdre trop d'information"
   ]
  },
  {
   "cell_type": "code",
   "execution_count": 5,
   "id": "cd00bef3",
   "metadata": {},
   "outputs": [
    {
     "data": {
      "text/plain": [
       "0"
      ]
     },
     "execution_count": 5,
     "metadata": {},
     "output_type": "execute_result"
    }
   ],
   "source": [
    "dfExecute = dfSimplified[(dfSimplified[\"redDeaths\"] != dfSimplified[\"blueKills\"]) | (dfSimplified[\"redKills\"] != dfSimplified[\"blueDeaths\"])]\n",
    "len(dfExecute)"
   ]
  },
  {
   "cell_type": "markdown",
   "id": "5127a320",
   "metadata": {},
   "source": [
    "On remarque que notre dataset ne contient pas de parties dans laquelle un joueur a été exécuté, nous pouvons donc supprimer ces features sans perdre de l'information"
   ]
  },
  {
   "cell_type": "code",
   "execution_count": 6,
   "id": "6bc51ea2",
   "metadata": {},
   "outputs": [
    {
     "data": {
      "text/plain": [
       "22"
      ]
     },
     "execution_count": 6,
     "metadata": {},
     "output_type": "execute_result"
    }
   ],
   "source": [
    "dfSimplified = dfSimplified.drop([\"redDeaths\", \"redKills\"], axis = 1)\n",
    "#dfSimplified\n",
    "len(dfSimplified.columns)"
   ]
  },
  {
   "cell_type": "markdown",
   "id": "8a80d6fa",
   "metadata": {},
   "source": [
    "### Monstres élites\n",
    "On sait qu'il ne peut y avoir qu'un seul héraut de la faille, et un seul dragon dans les 10 premières minutes, on peut donc fusionner les 2 colonnes blueHeralds et redHeralds (resp. blueDragons et redDragons) on aurait alors 3 valeurs possible : 1, 0 et -1 correspondant respectivement à blue, red et none"
   ]
  },
  {
   "cell_type": "code",
   "execution_count": 7,
   "id": "084f5a91",
   "metadata": {},
   "outputs": [
    {
     "name": "stderr",
     "output_type": "stream",
     "text": [
      "<ipython-input-7-cd6581752390>:2: SettingWithCopyWarning: \n",
      "A value is trying to be set on a copy of a slice from a DataFrame.\n",
      "Try using .loc[row_indexer,col_indexer] = value instead\n",
      "\n",
      "See the caveats in the documentation: https://pandas.pydata.org/pandas-docs/stable/user_guide/indexing.html#returning-a-view-versus-a-copy\n",
      "  colEliteMonsters.loc[:, ['herald', 'dragon']] = -1\n"
     ]
    },
    {
     "data": {
      "text/plain": [
       "20"
      ]
     },
     "execution_count": 7,
     "metadata": {},
     "output_type": "execute_result"
    }
   ],
   "source": [
    "colEliteMonsters = dfSimplified[[\"blueHeralds\", \"redHeralds\", \"redDragons\", \"blueDragons\"]]\n",
    "colEliteMonsters.loc[:, ['herald', 'dragon']] = -1\n",
    "def convertEliteStats(dataframe):\n",
    "    for index, current in dataframe.iterrows():\n",
    "        if current['blueHeralds'] == 1:\n",
    "            current['herald'] = 1\n",
    "        elif current['redHeralds'] == 1:\n",
    "            current['herald'] = 0\n",
    "        if current['blueDragons'] == 1:\n",
    "            current['dragon'] = 1\n",
    "        elif current['redDragons'] == 1:\n",
    "            current['dragon'] = 0\n",
    "    return dataframe[[\"herald\", \"dragon\"]]\n",
    "\n",
    "dfSimplified = dfSimplified.drop([\"redHeralds\", \"blueHeralds\", \"redDragons\", \"blueDragons\"], axis = 1);\n",
    "dfSimplified[[\"herald\", \"dragon\"]] = convertEliteStats(colEliteMonsters)\n",
    "#dfSimplified\n",
    "len(dfSimplified.columns)"
   ]
  },
  {
   "cell_type": "markdown",
   "id": "81840b6d",
   "metadata": {
    "heading_collapsed": true
   },
   "source": [
    "## Feature mapping"
   ]
  },
  {
   "cell_type": "code",
   "execution_count": null,
   "id": "faf46649",
   "metadata": {
    "hidden": true
   },
   "outputs": [],
   "source": []
  },
  {
   "cell_type": "markdown",
   "id": "95d559b0",
   "metadata": {},
   "source": [
    "# Dédoubler les données"
   ]
  },
  {
   "cell_type": "markdown",
   "id": "9fe5347e",
   "metadata": {},
   "source": [
    "## Objectif\n",
    "Doubler nos données permettrait d'augmenter virtuellement la taille de notre dataset, et donc d'avoir un modèle mieux entraîné et globalement plus fiable.\n",
    "## Problème\n",
    "Le jeu est fait de sorte que chaque équipe ai les même chances de gagner, cependant un aspect important du jeu n'est pas symétrique : les monstres élites.\n",
    "Les monstres élites (dragons et hérauts de la faille) offrent de nombreux avantages aux joueurs (or, expérience, statistiques, prise de tour), mais dû à la forme de la carte, chaque équipe est théoriquement avantagée sur la prise d'un type de monstre élites.\n",
    "\n",
    "![L'image Lol_Map.png n'a pas pu être chargé](images/LoL_Map.png) \n",
    "## Principe\n",
    "Nous allons donc comparer la prévalence des différents monstres élites dans les parties gagnées, ainsi que la proportion de parties où les différents objectifs ont été pris par chaque équipe. Si les monstres élites influent peu sur le taux de victoire, ou si chaque équipe a en réalité le même nombre de monstre élite en moyenne, alors nous pourrons considérer doubler les données."
   ]
  },
  {
   "cell_type": "code",
   "execution_count": 8,
   "metadata": {},
   "outputs": [],
   "source": [
    "def EliteMonsterRepartition(dataframe, in_col):\n",
    "    cols = dataframe[dataframe[in_col] > -1]\n",
    "    blue = 0\n",
    "    red = 0\n",
    "    amount = []\n",
    "\n",
    "    for index, current in cols.iterrows():\n",
    "        if current[in_col] == 1:\n",
    "            blue += 1\n",
    "        elif current[in_col] == 0:\n",
    "            red += 1\n",
    "        amount.append(1)\n",
    "\n",
    "    #g = sn.barplot(x=in_col,y=amount,data=cols)\n",
    "    #g.set(xticklabels=[\"Red team\", \"Blue team\"])\n",
    "    plt.xlabel(\"Équipes\", size=14)\n",
    "    plt.ylabel(\"Nombre de parties\", size=14)\n",
    "    plt.bar(['Red team', 'Blue team'], height = [red, blue], color = ['red', 'blue'])\n",
    "    plt.title(\"Répartition du \" + in_col + \" par équipe\")\n",
    "\n",
    "    plt.show()\n",
    "    print(in_col, 'bleus :', blue)\n",
    "    print(in_col, 'rouges :', red)\n",
    "    print('Un ' + in_col + ' est fait par l\\'équipe bleue dans ' + str(round(100*blue/len(dataframe), 1)) + '% des parties')\n",
    "    print('Un '+ in_col + ' est fait par l\\'équipe rouge dans ' + str(round(100*red/len(dataframe), 1)) + '% des parties')"
   ]
  },
  {
   "cell_type": "markdown",
   "id": "8f584dfb",
   "metadata": {},
   "source": [
    "### Hérauts de la faille"
   ]
  },
  {
   "cell_type": "code",
   "execution_count": 9,
   "id": "55d55150",
   "metadata": {},
   "outputs": [
    {
     "data": {
      "image/png": "[encoded data removed]",
      "text/plain": [
       "<Figure size 432x288 with 1 Axes>"
      ]
     },
     "metadata": {
      "needs_background": "light"
     },
     "output_type": "display_data"
    },
    {
     "name": "stdout",
     "output_type": "stream",
     "text": [
      "herald bleus : 1857\n",
      "herald rouges : 1581\n",
      "Un herald est fait par l'équipe bleue dans 18.8% des parties\n",
      "Un herald est fait par l'équipe rouge dans 16.0% des parties\n"
     ]
    }
   ],
   "source": [
    "EliteMonsterRepartition(dfSimplified, 'herald')"
   ]
  },
  {
   "cell_type": "markdown",
   "id": "dc154d59",
   "metadata": {},
   "source": [
    "On voit effectivement que l'équipe bleu est avantagée sur la prise des hérauts, la probabilité que l'équipe bleue fasse le héraut est plus élevée de presque 3%. "
   ]
  },
  {
   "cell_type": "markdown",
   "id": "a06e2ce1",
   "metadata": {},
   "source": [
    "### Dragons"
   ]
  },
  {
   "cell_type": "code",
   "execution_count": 10,
   "id": "78e36c8d",
   "metadata": {
    "scrolled": false
   },
   "outputs": [
    {
     "data": {
      "image/png": "[encoded data removed]",
      "text/plain": [
       "<Figure size 432x288 with 1 Axes>"
      ]
     },
     "metadata": {
      "needs_background": "light"
     },
     "output_type": "display_data"
    },
    {
     "name": "stdout",
     "output_type": "stream",
     "text": [
      "dragon bleus : 3576\n",
      "dragon rouges : 4081\n",
      "Un dragon est fait par l'équipe bleue dans 36.2% des parties\n",
      "Un dragon est fait par l'équipe rouge dans 41.3% des parties\n"
     ]
    }
   ],
   "source": [
    "EliteMonsterRepartition(dfSimplified, 'dragon')"
   ]
  },
  {
   "cell_type": "markdown",
   "metadata": {},
   "source": [
    "On voit effectivement que l'équipe rouge est avantagée sur la prise des dragons, la probabilité que l'équipe rouge fasse le dragon est plus élevée de 5%. "
   ]
  },
  {
   "cell_type": "markdown",
   "metadata": {},
   "source": [
    "## Analyse"
   ]
  },
  {
   "cell_type": "markdown",
   "metadata": {},
   "source": [
    "On a vérifié que les équipes avaient bien un avantage sur l'accès à un type d'objectif, on s'intéresse maintenant à l'impact que chaque objectif a sur la victoire"
   ]
  },
  {
   "cell_type": "code",
   "execution_count": 11,
   "metadata": {},
   "outputs": [],
   "source": [
    "def WinRepartition(df):\n",
    "    cols = df[[\"blueWins\", \"herald\", \"dragon\"]]\n",
    "    dragon = 0\n",
    "    herald = 0\n",
    "    dragonG = 0\n",
    "    heraldG = 0\n",
    "    amountDragon = 0\n",
    "    amountHerald = 0\n",
    "    amount = []\n",
    "    \n",
    "    for index, current in cols.iterrows():\n",
    "        if current[\"blueWins\"] == current[\"dragon\"]:\n",
    "            dragonG += 1\n",
    "        if current[\"blueWins\"] == current[\"herald\"]:\n",
    "            heraldG += 1\n",
    "        if current[\"dragon\"] > -1:\n",
    "            dragon += 1\n",
    "        if current[\"herald\"] > -1:\n",
    "            herald += 1\n",
    "        amount.append(1)\n",
    "        \n",
    "    plt.xlabel(\"Monstres élites\", size=14)\n",
    "    plt.ylabel(\"Nombre de parties\", size=14)\n",
    "    #plt.yticks(np.arange(0, len(df), 1000))\n",
    "    #plt.ylim(ymax = len(df), ymin = 0)\n",
    "    plt.yticks(np.arange(0, len(df), 500))\n",
    "    plt.bar(['Dragon', 'Héraut'], height = [dragonG, heraldG], color = ['orange', 'purple'])\n",
    "    plt.title(\"Nombre de monstres élites pris par l'équipe gagnante\")\n",
    "\n",
    "    plt.show()\n",
    "    print(str(dragonG) + ' dragons ont été pris par l\\'équipe gagnante')\n",
    "    print(str(heraldG) + ' hérauts ont été pris par l\\'équipe gagnante')\n",
    "    print('Sur un total de ' + str(len(df)) + ' parties')\n",
    "    print(str(round(100*dragonG/dragon, 1)) + '% des dragons ont été pris par l\\'équipe gagnante')\n",
    "    print(str(round(100*heraldG/herald, 1))+ '% des hérauts ont été pris par l\\'équipe gagnante')"
   ]
  },
  {
   "cell_type": "code",
   "execution_count": 12,
   "metadata": {},
   "outputs": [
    {
     "data": {
      "image/png": "[encoded data removed]",
      "text/plain": [
       "<Figure size 432x288 with 1 Axes>"
      ]
     },
     "metadata": {
      "needs_background": "light"
     },
     "output_type": "display_data"
    },
    {
     "name": "stdout",
     "output_type": "stream",
     "text": [
      "4846 dragons ont été pris par l'équipe gagnante\n",
      "2073 hérauts ont été pris par l'équipe gagnante\n",
      "Sur un total de 9879 parties\n",
      "63.3% des dragons ont été pris par l'équipe gagnante\n",
      "60.3% des hérauts ont été pris par l'équipe gagnante\n"
     ]
    }
   ],
   "source": [
    "WinRepartition(dfSimplified)"
   ]
  },
  {
   "cell_type": "markdown",
   "metadata": {},
   "source": [
    "## Bilan\n",
    "Les dragons sont plus faciles à prendre pour l'équipe rouge et ont une meilleure corrélation avec la victoire que les hérauts.  \n",
    "Bien que l'avantage ne soit que de quelques pourcents, il est trop important pour qu'on puisse doubler de manière fiable les données."
   ]
  },
  {
   "cell_type": "markdown",
   "metadata": {},
   "source": [
    "# Modélisation"
   ]
  },
  {
   "cell_type": "code",
   "execution_count": 13,
   "metadata": {},
   "outputs": [],
   "source": [
    "from sklearn import svm\n",
    "from sklearn.preprocessing import StandardScaler\n",
    "from sklearn.pipeline import make_pipeline\n",
    "import sys"
   ]
  },
  {
   "cell_type": "markdown",
   "metadata": {},
   "source": [
    "## Phase de test"
   ]
  },
  {
   "cell_type": "code",
   "execution_count": 14,
   "metadata": {
    "scrolled": true
   },
   "outputs": [],
   "source": [
    "Xtrain = dfSimplified.iloc[0:1000, 1:]\n",
    "Ytrain = dfSimplified.iloc[0:1000, 0]"
   ]
  },
  {
   "cell_type": "code",
   "execution_count": 15,
   "metadata": {},
   "outputs": [
    {
     "data": {
      "text/plain": [
       "Pipeline(steps=[('standardscaler', StandardScaler()),\n",
       "                ('svc', SVC(gamma='auto'))])"
      ]
     },
     "execution_count": 15,
     "metadata": {},
     "output_type": "execute_result"
    }
   ],
   "source": [
    "svm1 = svm.SVC()\n",
    "clf = make_pipeline(StandardScaler(), svm.SVC(gamma='auto'))\n",
    "clf.fit(Xtrain, Ytrain)"
   ]
  },
  {
   "cell_type": "code",
   "execution_count": 16,
   "metadata": {},
   "outputs": [],
   "source": [
    "Xtest = dfSimplified.iloc[1000:, 1:]\n",
    "Ytest = dfSimplified.iloc[1000:, 0]"
   ]
  },
  {
   "cell_type": "code",
   "execution_count": 17,
   "metadata": {
    "scrolled": true
   },
   "outputs": [],
   "source": [
    "resultest = clf.predict(Xtest)"
   ]
  },
  {
   "cell_type": "code",
   "execution_count": 18,
   "metadata": {},
   "outputs": [
    {
     "name": "stdout",
     "output_type": "stream",
     "text": [
      "Total : 8879\n",
      "Correct : 6311\n",
      "71.1%\n"
     ]
    }
   ],
   "source": [
    "def compare(test, Ytest):\n",
    "    Yarray = Ytest.to_numpy()\n",
    "    total = 0\n",
    "    correct = 0\n",
    "    for index in range(len(test)):\n",
    "        if test[index] == Yarray[index]:\n",
    "            correct += 1\n",
    "        total += 1\n",
    "    print(\"Total : \" + str(total))\n",
    "    print(\"Correct : \" + str(correct))\n",
    "    print(str(round(100*correct/total, 1)) + \"%\")\n",
    "compare(resultest, Ytest)"
   ]
  },
  {
   "cell_type": "code",
   "execution_count": null,
   "metadata": {},
   "outputs": [],
   "source": []
  },
  {
   "cell_type": "markdown",
   "metadata": {},
   "source": [
    "## Truc"
   ]
  },
  {
   "cell_type": "code",
   "execution_count": null,
   "metadata": {},
   "outputs": [],
   "source": []
  }
 ],
 "metadata": {
  "kernelspec": {
   "display_name": "Python 3",
   "language": "python",
   "name": "python3"
  },
  "language_info": {
   "codemirror_mode": {
    "name": "ipython",
    "version": 3
   },
   "file_extension": ".py",
   "mimetype": "text/x-python",
   "name": "python",
   "nbconvert_exporter": "python",
   "pygments_lexer": "ipython3",
   "version": "3.8.10"
  },
  "toc": {
   "base_numbering": 1,
   "nav_menu": {},
   "number_sections": true,
   "sideBar": true,
   "skip_h1_title": false,
   "title_cell": "Table of Contents",
   "title_sidebar": "Contents",
   "toc_cell": false,
   "toc_position": {},
   "toc_section_display": true,
   "toc_window_display": false
  },
  "varInspector": {
   "cols": {
    "lenName": 16,
    "lenType": 16,
    "lenVar": 40
   },
   "kernels_config": {
    "python": {
     "delete_cmd_postfix": "",
     "delete_cmd_prefix": "del ",
     "library": "var_list.py",
     "varRefreshCmd": "print(var_dic_list())"
    },
    "r": {
     "delete_cmd_postfix": ") ",
     "delete_cmd_prefix": "rm(",
     "library": "var_list.r",
     "varRefreshCmd": "cat(var_dic_list()) "
    }
   },
   "types_to_exclude": [
    "module",
    "function",
    "builtin_function_or_method",
    "instance",
    "_Feature"
   ],
   "window_display": false
  }
 },
 "nbformat": 4,
 "nbformat_minor": 5
}
